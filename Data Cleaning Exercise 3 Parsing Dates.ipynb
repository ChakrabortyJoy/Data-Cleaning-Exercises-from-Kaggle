{
 "cells": [
  {
   "cell_type": "markdown",
   "id": "1ff66594",
   "metadata": {
    "papermill": {
     "duration": 0.046787,
     "end_time": "2022-01-27T18:35:29.804448",
     "exception": false,
     "start_time": "2022-01-27T18:35:29.757661",
     "status": "completed"
    },
    "tags": []
   },
   "source": [
    "**This notebook is an exercise in the [Data Cleaning](https://www.kaggle.com/learn/data-cleaning) course.  You can reference the tutorial at [this link](https://www.kaggle.com/alexisbcook/parsing-dates).**\n",
    "\n",
    "---\n"
   ]
  },
  {
   "cell_type": "markdown",
   "id": "ad0bb97a",
   "metadata": {
    "papermill": {
     "duration": 0.053648,
     "end_time": "2022-01-27T18:35:29.913067",
     "exception": false,
     "start_time": "2022-01-27T18:35:29.859419",
     "status": "completed"
    },
    "tags": []
   },
   "source": [
    "In this exercise, you'll apply what you learned in the **Parsing dates** tutorial.\n",
    "\n",
    "# Setup\n",
    "\n",
    "The questions below will give you feedback on your work. Run the following cell to set up the feedback system."
   ]
  },
  {
   "cell_type": "code",
   "execution_count": 1,
   "id": "0c5f3c16",
   "metadata": {
    "execution": {
     "iopub.execute_input": "2022-01-27T18:35:30.031437Z",
     "iopub.status.busy": "2022-01-27T18:35:30.029488Z",
     "iopub.status.idle": "2022-01-27T18:35:31.278216Z",
     "shell.execute_reply": "2022-01-27T18:35:31.277540Z",
     "shell.execute_reply.started": "2022-01-26T17:06:44.885997Z"
    },
    "papermill": {
     "duration": 1.315639,
     "end_time": "2022-01-27T18:35:31.278384",
     "exception": false,
     "start_time": "2022-01-27T18:35:29.962745",
     "status": "completed"
    },
    "tags": []
   },
   "outputs": [
    {
     "name": "stdout",
     "output_type": "stream",
     "text": [
      "Setup Complete\n"
     ]
    }
   ],
   "source": [
    "from learntools.core import binder\n",
    "binder.bind(globals())\n",
    "from learntools.data_cleaning.ex3 import *\n",
    "print(\"Setup Complete\")"
   ]
  },
  {
   "cell_type": "markdown",
   "id": "7d94c2c2",
   "metadata": {
    "papermill": {
     "duration": 0.023968,
     "end_time": "2022-01-27T18:35:31.326245",
     "exception": false,
     "start_time": "2022-01-27T18:35:31.302277",
     "status": "completed"
    },
    "tags": []
   },
   "source": [
    "# Get our environment set up\n",
    "\n",
    "The first thing we'll need to do is load in the libraries and dataset we'll be using. We'll be working with a dataset containing information on earthquakes that occured between 1965 and 2016."
   ]
  },
  {
   "cell_type": "code",
   "execution_count": 2,
   "id": "8250f937",
   "metadata": {
    "execution": {
     "iopub.execute_input": "2022-01-27T18:35:31.380117Z",
     "iopub.status.busy": "2022-01-27T18:35:31.378947Z",
     "iopub.status.idle": "2022-01-27T18:35:31.452579Z",
     "shell.execute_reply": "2022-01-27T18:35:31.451588Z",
     "shell.execute_reply.started": "2022-01-26T17:06:45.984421Z"
    },
    "papermill": {
     "duration": 0.102783,
     "end_time": "2022-01-27T18:35:31.452735",
     "exception": false,
     "start_time": "2022-01-27T18:35:31.349952",
     "status": "completed"
    },
    "tags": []
   },
   "outputs": [],
   "source": [
    "# modules we'll use\n",
    "import pandas as pd\n",
    "import numpy as np\n",
    "import seaborn as sns\n",
    "import datetime\n",
    "\n",
    "# read in our data\n",
    "earthquakes = pd.read_csv(\"../input/earthquake-database/database.csv\")\n",
    "\n",
    "# set seed for reproducibility\n",
    "np.random.seed(0)"
   ]
  },
  {
   "cell_type": "markdown",
   "id": "42a8e193",
   "metadata": {
    "papermill": {
     "duration": 0.023824,
     "end_time": "2022-01-27T18:35:31.500992",
     "exception": false,
     "start_time": "2022-01-27T18:35:31.477168",
     "status": "completed"
    },
    "tags": []
   },
   "source": [
    "# 1) Check the data type of our date column\n",
    "\n",
    "You'll be working with the \"Date\" column from the `earthquakes` dataframe.  Investigate this column now: does it look like it contains dates?  What is the dtype of the column?"
   ]
  },
  {
   "cell_type": "code",
   "execution_count": 3,
   "id": "8794f3e0",
   "metadata": {
    "execution": {
     "iopub.execute_input": "2022-01-27T18:35:31.555565Z",
     "iopub.status.busy": "2022-01-27T18:35:31.554675Z",
     "iopub.status.idle": "2022-01-27T18:35:31.558684Z",
     "shell.execute_reply": "2022-01-27T18:35:31.559603Z",
     "shell.execute_reply.started": "2022-01-26T17:06:46.056741Z"
    },
    "papermill": {
     "duration": 0.035484,
     "end_time": "2022-01-27T18:35:31.560064",
     "exception": false,
     "start_time": "2022-01-27T18:35:31.524580",
     "status": "completed"
    },
    "tags": []
   },
   "outputs": [
    {
     "name": "stdout",
     "output_type": "stream",
     "text": [
      "0    01/02/1965\n",
      "1    01/04/1965\n",
      "2    01/05/1965\n",
      "3    01/08/1965\n",
      "4    01/09/1965\n",
      "Name: Date, dtype: object\n"
     ]
    }
   ],
   "source": [
    "# TODO: Your code here!\n",
    "print(earthquakes['Date'].head())"
   ]
  },
  {
   "cell_type": "markdown",
   "id": "7ebea749",
   "metadata": {
    "papermill": {
     "duration": 0.023169,
     "end_time": "2022-01-27T18:35:31.612188",
     "exception": false,
     "start_time": "2022-01-27T18:35:31.589019",
     "status": "completed"
    },
    "tags": []
   },
   "source": [
    "Once you have answered the question above, run the code cell below to get credit for your work."
   ]
  },
  {
   "cell_type": "code",
   "execution_count": 4,
   "id": "af4ed394",
   "metadata": {
    "execution": {
     "iopub.execute_input": "2022-01-27T18:35:31.670055Z",
     "iopub.status.busy": "2022-01-27T18:35:31.668968Z",
     "iopub.status.idle": "2022-01-27T18:35:31.674948Z",
     "shell.execute_reply": "2022-01-27T18:35:31.675601Z",
     "shell.execute_reply.started": "2022-01-26T17:06:46.065441Z"
    },
    "papermill": {
     "duration": 0.038393,
     "end_time": "2022-01-27T18:35:31.675764",
     "exception": false,
     "start_time": "2022-01-27T18:35:31.637371",
     "status": "completed"
    },
    "tags": []
   },
   "outputs": [
    {
     "data": {
      "application/javascript": [
       "parent.postMessage({\"jupyterEvent\": \"custom.exercise_interaction\", \"data\": {\"outcomeType\": 1, \"valueTowardsCompletion\": 0.25, \"interactionType\": 1, \"questionType\": 4, \"questionId\": \"1_CheckDtype\", \"learnToolsVersion\": \"0.3.4\", \"failureMessage\": \"\", \"exceptionClass\": \"\", \"trace\": \"\"}}, \"*\")"
      ],
      "text/plain": [
       "<IPython.core.display.Javascript object>"
      ]
     },
     "metadata": {},
     "output_type": "display_data"
    },
    {
     "data": {
      "text/markdown": [
       "<span style=\"color:#33cc33\">Correct:</span> \n",
       "\n",
       "The \"Date\" column in the `earthquakes` DataFrame does have dates.  The dtype is \"object\"."
      ],
      "text/plain": [
       "Correct: \n",
       "\n",
       "The \"Date\" column in the `earthquakes` DataFrame does have dates.  The dtype is \"object\"."
      ]
     },
     "metadata": {},
     "output_type": "display_data"
    }
   ],
   "source": [
    "# Check your answer (Run this code cell to receive credit!)\n",
    "q1.check()"
   ]
  },
  {
   "cell_type": "code",
   "execution_count": 5,
   "id": "f6bed50c",
   "metadata": {
    "execution": {
     "iopub.execute_input": "2022-01-27T18:35:31.728610Z",
     "iopub.status.busy": "2022-01-27T18:35:31.727561Z",
     "iopub.status.idle": "2022-01-27T18:35:31.732076Z",
     "shell.execute_reply": "2022-01-27T18:35:31.731502Z",
     "shell.execute_reply.started": "2022-01-26T17:06:46.082206Z"
    },
    "papermill": {
     "duration": 0.031949,
     "end_time": "2022-01-27T18:35:31.732216",
     "exception": false,
     "start_time": "2022-01-27T18:35:31.700267",
     "status": "completed"
    },
    "tags": []
   },
   "outputs": [],
   "source": [
    "# Line below will give you a hint\n",
    "#q1.hint()"
   ]
  },
  {
   "cell_type": "markdown",
   "id": "5a4ef7ff",
   "metadata": {
    "papermill": {
     "duration": 0.02539,
     "end_time": "2022-01-27T18:35:31.782412",
     "exception": false,
     "start_time": "2022-01-27T18:35:31.757022",
     "status": "completed"
    },
    "tags": []
   },
   "source": [
    "# 2) Convert our date columns to datetime\n",
    "\n",
    "Most of the entries in the \"Date\" column follow the same format: \"month/day/four-digit year\".  However, the entry at index 3378 follows a completely different pattern.  Run the code cell below to see this."
   ]
  },
  {
   "cell_type": "code",
   "execution_count": 6,
   "id": "65b524d5",
   "metadata": {
    "execution": {
     "iopub.execute_input": "2022-01-27T18:35:31.843268Z",
     "iopub.status.busy": "2022-01-27T18:35:31.842313Z",
     "iopub.status.idle": "2022-01-27T18:35:31.872138Z",
     "shell.execute_reply": "2022-01-27T18:35:31.872753Z",
     "shell.execute_reply.started": "2022-01-26T17:06:46.088016Z"
    },
    "papermill": {
     "duration": 0.065683,
     "end_time": "2022-01-27T18:35:31.872965",
     "exception": false,
     "start_time": "2022-01-27T18:35:31.807282",
     "status": "completed"
    },
    "tags": []
   },
   "outputs": [
    {
     "data": {
      "text/html": [
       "<div>\n",
       "<style scoped>\n",
       "    .dataframe tbody tr th:only-of-type {\n",
       "        vertical-align: middle;\n",
       "    }\n",
       "\n",
       "    .dataframe tbody tr th {\n",
       "        vertical-align: top;\n",
       "    }\n",
       "\n",
       "    .dataframe thead th {\n",
       "        text-align: right;\n",
       "    }\n",
       "</style>\n",
       "<table border=\"1\" class=\"dataframe\">\n",
       "  <thead>\n",
       "    <tr style=\"text-align: right;\">\n",
       "      <th></th>\n",
       "      <th>Date</th>\n",
       "      <th>Time</th>\n",
       "      <th>Latitude</th>\n",
       "      <th>Longitude</th>\n",
       "      <th>Type</th>\n",
       "      <th>Depth</th>\n",
       "      <th>Depth Error</th>\n",
       "      <th>Depth Seismic Stations</th>\n",
       "      <th>Magnitude</th>\n",
       "      <th>Magnitude Type</th>\n",
       "      <th>...</th>\n",
       "      <th>Magnitude Seismic Stations</th>\n",
       "      <th>Azimuthal Gap</th>\n",
       "      <th>Horizontal Distance</th>\n",
       "      <th>Horizontal Error</th>\n",
       "      <th>Root Mean Square</th>\n",
       "      <th>ID</th>\n",
       "      <th>Source</th>\n",
       "      <th>Location Source</th>\n",
       "      <th>Magnitude Source</th>\n",
       "      <th>Status</th>\n",
       "    </tr>\n",
       "  </thead>\n",
       "  <tbody>\n",
       "    <tr>\n",
       "      <th>3378</th>\n",
       "      <td>1975-02-23T02:58:41.000Z</td>\n",
       "      <td>1975-02-23T02:58:41.000Z</td>\n",
       "      <td>8.017</td>\n",
       "      <td>124.075</td>\n",
       "      <td>Earthquake</td>\n",
       "      <td>623.0</td>\n",
       "      <td>NaN</td>\n",
       "      <td>NaN</td>\n",
       "      <td>5.6</td>\n",
       "      <td>MB</td>\n",
       "      <td>...</td>\n",
       "      <td>NaN</td>\n",
       "      <td>NaN</td>\n",
       "      <td>NaN</td>\n",
       "      <td>NaN</td>\n",
       "      <td>NaN</td>\n",
       "      <td>USP0000A09</td>\n",
       "      <td>US</td>\n",
       "      <td>US</td>\n",
       "      <td>US</td>\n",
       "      <td>Reviewed</td>\n",
       "    </tr>\n",
       "    <tr>\n",
       "      <th>3379</th>\n",
       "      <td>02/23/1975</td>\n",
       "      <td>03:53:36</td>\n",
       "      <td>-21.727</td>\n",
       "      <td>-71.356</td>\n",
       "      <td>Earthquake</td>\n",
       "      <td>33.0</td>\n",
       "      <td>NaN</td>\n",
       "      <td>NaN</td>\n",
       "      <td>5.6</td>\n",
       "      <td>MB</td>\n",
       "      <td>...</td>\n",
       "      <td>NaN</td>\n",
       "      <td>NaN</td>\n",
       "      <td>NaN</td>\n",
       "      <td>NaN</td>\n",
       "      <td>NaN</td>\n",
       "      <td>USP0000A0A</td>\n",
       "      <td>US</td>\n",
       "      <td>US</td>\n",
       "      <td>US</td>\n",
       "      <td>Reviewed</td>\n",
       "    </tr>\n",
       "    <tr>\n",
       "      <th>3380</th>\n",
       "      <td>02/23/1975</td>\n",
       "      <td>07:34:11</td>\n",
       "      <td>-10.879</td>\n",
       "      <td>166.667</td>\n",
       "      <td>Earthquake</td>\n",
       "      <td>33.0</td>\n",
       "      <td>NaN</td>\n",
       "      <td>NaN</td>\n",
       "      <td>5.5</td>\n",
       "      <td>MS</td>\n",
       "      <td>...</td>\n",
       "      <td>NaN</td>\n",
       "      <td>NaN</td>\n",
       "      <td>NaN</td>\n",
       "      <td>NaN</td>\n",
       "      <td>NaN</td>\n",
       "      <td>USP0000A0C</td>\n",
       "      <td>US</td>\n",
       "      <td>US</td>\n",
       "      <td>US</td>\n",
       "      <td>Reviewed</td>\n",
       "    </tr>\n",
       "    <tr>\n",
       "      <th>3381</th>\n",
       "      <td>02/25/1975</td>\n",
       "      <td>05:20:05</td>\n",
       "      <td>-7.388</td>\n",
       "      <td>149.798</td>\n",
       "      <td>Earthquake</td>\n",
       "      <td>33.0</td>\n",
       "      <td>NaN</td>\n",
       "      <td>NaN</td>\n",
       "      <td>5.5</td>\n",
       "      <td>MB</td>\n",
       "      <td>...</td>\n",
       "      <td>NaN</td>\n",
       "      <td>NaN</td>\n",
       "      <td>NaN</td>\n",
       "      <td>NaN</td>\n",
       "      <td>NaN</td>\n",
       "      <td>USP0000A12</td>\n",
       "      <td>US</td>\n",
       "      <td>US</td>\n",
       "      <td>US</td>\n",
       "      <td>Reviewed</td>\n",
       "    </tr>\n",
       "    <tr>\n",
       "      <th>3382</th>\n",
       "      <td>02/26/1975</td>\n",
       "      <td>04:48:55</td>\n",
       "      <td>85.047</td>\n",
       "      <td>97.969</td>\n",
       "      <td>Earthquake</td>\n",
       "      <td>33.0</td>\n",
       "      <td>NaN</td>\n",
       "      <td>NaN</td>\n",
       "      <td>5.6</td>\n",
       "      <td>MS</td>\n",
       "      <td>...</td>\n",
       "      <td>NaN</td>\n",
       "      <td>NaN</td>\n",
       "      <td>NaN</td>\n",
       "      <td>NaN</td>\n",
       "      <td>NaN</td>\n",
       "      <td>USP0000A1H</td>\n",
       "      <td>US</td>\n",
       "      <td>US</td>\n",
       "      <td>US</td>\n",
       "      <td>Reviewed</td>\n",
       "    </tr>\n",
       "  </tbody>\n",
       "</table>\n",
       "<p>5 rows × 21 columns</p>\n",
       "</div>"
      ],
      "text/plain": [
       "                          Date                      Time  Latitude  Longitude  \\\n",
       "3378  1975-02-23T02:58:41.000Z  1975-02-23T02:58:41.000Z     8.017    124.075   \n",
       "3379                02/23/1975                  03:53:36   -21.727    -71.356   \n",
       "3380                02/23/1975                  07:34:11   -10.879    166.667   \n",
       "3381                02/25/1975                  05:20:05    -7.388    149.798   \n",
       "3382                02/26/1975                  04:48:55    85.047     97.969   \n",
       "\n",
       "            Type  Depth  Depth Error  Depth Seismic Stations  Magnitude  \\\n",
       "3378  Earthquake  623.0          NaN                     NaN        5.6   \n",
       "3379  Earthquake   33.0          NaN                     NaN        5.6   \n",
       "3380  Earthquake   33.0          NaN                     NaN        5.5   \n",
       "3381  Earthquake   33.0          NaN                     NaN        5.5   \n",
       "3382  Earthquake   33.0          NaN                     NaN        5.6   \n",
       "\n",
       "     Magnitude Type  ...  Magnitude Seismic Stations  Azimuthal Gap  \\\n",
       "3378             MB  ...                         NaN            NaN   \n",
       "3379             MB  ...                         NaN            NaN   \n",
       "3380             MS  ...                         NaN            NaN   \n",
       "3381             MB  ...                         NaN            NaN   \n",
       "3382             MS  ...                         NaN            NaN   \n",
       "\n",
       "      Horizontal Distance  Horizontal Error  Root Mean Square          ID  \\\n",
       "3378                  NaN               NaN               NaN  USP0000A09   \n",
       "3379                  NaN               NaN               NaN  USP0000A0A   \n",
       "3380                  NaN               NaN               NaN  USP0000A0C   \n",
       "3381                  NaN               NaN               NaN  USP0000A12   \n",
       "3382                  NaN               NaN               NaN  USP0000A1H   \n",
       "\n",
       "     Source Location Source Magnitude Source    Status  \n",
       "3378     US              US               US  Reviewed  \n",
       "3379     US              US               US  Reviewed  \n",
       "3380     US              US               US  Reviewed  \n",
       "3381     US              US               US  Reviewed  \n",
       "3382     US              US               US  Reviewed  \n",
       "\n",
       "[5 rows x 21 columns]"
      ]
     },
     "execution_count": 6,
     "metadata": {},
     "output_type": "execute_result"
    }
   ],
   "source": [
    "earthquakes[3378:3383]"
   ]
  },
  {
   "cell_type": "markdown",
   "id": "820ad9b7",
   "metadata": {
    "papermill": {
     "duration": 0.025046,
     "end_time": "2022-01-27T18:35:31.923481",
     "exception": false,
     "start_time": "2022-01-27T18:35:31.898435",
     "status": "completed"
    },
    "tags": []
   },
   "source": [
    "This does appear to be an issue with data entry: ideally, all entries in the column have the same format.  We can get an idea of how widespread this issue is by checking the length of each entry in the \"Date\" column."
   ]
  },
  {
   "cell_type": "code",
   "execution_count": 7,
   "id": "001b0b02",
   "metadata": {
    "execution": {
     "iopub.execute_input": "2022-01-27T18:35:31.998381Z",
     "iopub.status.busy": "2022-01-27T18:35:31.980955Z",
     "iopub.status.idle": "2022-01-27T18:35:32.002372Z",
     "shell.execute_reply": "2022-01-27T18:35:32.002932Z",
     "shell.execute_reply.started": "2022-01-26T17:06:46.123324Z"
    },
    "papermill": {
     "duration": 0.054411,
     "end_time": "2022-01-27T18:35:32.003097",
     "exception": false,
     "start_time": "2022-01-27T18:35:31.948686",
     "status": "completed"
    },
    "tags": []
   },
   "outputs": [
    {
     "data": {
      "text/plain": [
       "10    23409\n",
       "24        3\n",
       "Name: Date, dtype: int64"
      ]
     },
     "execution_count": 7,
     "metadata": {},
     "output_type": "execute_result"
    }
   ],
   "source": [
    "date_lengths = earthquakes.Date.str.len()\n",
    "date_lengths.value_counts()"
   ]
  },
  {
   "cell_type": "markdown",
   "id": "e1c7bf6a",
   "metadata": {
    "papermill": {
     "duration": 0.025042,
     "end_time": "2022-01-27T18:35:32.053916",
     "exception": false,
     "start_time": "2022-01-27T18:35:32.028874",
     "status": "completed"
    },
    "tags": []
   },
   "source": [
    "Looks like there are two more rows that has a date in a different format.  Run the code cell below to obtain the indices corresponding to those rows and print the data."
   ]
  },
  {
   "cell_type": "code",
   "execution_count": 8,
   "id": "e825e9a3",
   "metadata": {
    "execution": {
     "iopub.execute_input": "2022-01-27T18:35:32.117541Z",
     "iopub.status.busy": "2022-01-27T18:35:32.110061Z",
     "iopub.status.idle": "2022-01-27T18:35:32.143205Z",
     "shell.execute_reply": "2022-01-27T18:35:32.143747Z",
     "shell.execute_reply.started": "2022-01-26T17:06:46.150145Z"
    },
    "papermill": {
     "duration": 0.063566,
     "end_time": "2022-01-27T18:35:32.143919",
     "exception": false,
     "start_time": "2022-01-27T18:35:32.080353",
     "status": "completed"
    },
    "tags": []
   },
   "outputs": [
    {
     "name": "stdout",
     "output_type": "stream",
     "text": [
      "Indices with corrupted data: [ 3378  7512 20650]\n"
     ]
    },
    {
     "data": {
      "text/html": [
       "<div>\n",
       "<style scoped>\n",
       "    .dataframe tbody tr th:only-of-type {\n",
       "        vertical-align: middle;\n",
       "    }\n",
       "\n",
       "    .dataframe tbody tr th {\n",
       "        vertical-align: top;\n",
       "    }\n",
       "\n",
       "    .dataframe thead th {\n",
       "        text-align: right;\n",
       "    }\n",
       "</style>\n",
       "<table border=\"1\" class=\"dataframe\">\n",
       "  <thead>\n",
       "    <tr style=\"text-align: right;\">\n",
       "      <th></th>\n",
       "      <th>Date</th>\n",
       "      <th>Time</th>\n",
       "      <th>Latitude</th>\n",
       "      <th>Longitude</th>\n",
       "      <th>Type</th>\n",
       "      <th>Depth</th>\n",
       "      <th>Depth Error</th>\n",
       "      <th>Depth Seismic Stations</th>\n",
       "      <th>Magnitude</th>\n",
       "      <th>Magnitude Type</th>\n",
       "      <th>...</th>\n",
       "      <th>Magnitude Seismic Stations</th>\n",
       "      <th>Azimuthal Gap</th>\n",
       "      <th>Horizontal Distance</th>\n",
       "      <th>Horizontal Error</th>\n",
       "      <th>Root Mean Square</th>\n",
       "      <th>ID</th>\n",
       "      <th>Source</th>\n",
       "      <th>Location Source</th>\n",
       "      <th>Magnitude Source</th>\n",
       "      <th>Status</th>\n",
       "    </tr>\n",
       "  </thead>\n",
       "  <tbody>\n",
       "    <tr>\n",
       "      <th>3378</th>\n",
       "      <td>1975-02-23T02:58:41.000Z</td>\n",
       "      <td>1975-02-23T02:58:41.000Z</td>\n",
       "      <td>8.017</td>\n",
       "      <td>124.075</td>\n",
       "      <td>Earthquake</td>\n",
       "      <td>623.0</td>\n",
       "      <td>NaN</td>\n",
       "      <td>NaN</td>\n",
       "      <td>5.6</td>\n",
       "      <td>MB</td>\n",
       "      <td>...</td>\n",
       "      <td>NaN</td>\n",
       "      <td>NaN</td>\n",
       "      <td>NaN</td>\n",
       "      <td>NaN</td>\n",
       "      <td>NaN</td>\n",
       "      <td>USP0000A09</td>\n",
       "      <td>US</td>\n",
       "      <td>US</td>\n",
       "      <td>US</td>\n",
       "      <td>Reviewed</td>\n",
       "    </tr>\n",
       "    <tr>\n",
       "      <th>7512</th>\n",
       "      <td>1985-04-28T02:53:41.530Z</td>\n",
       "      <td>1985-04-28T02:53:41.530Z</td>\n",
       "      <td>-32.998</td>\n",
       "      <td>-71.766</td>\n",
       "      <td>Earthquake</td>\n",
       "      <td>33.0</td>\n",
       "      <td>NaN</td>\n",
       "      <td>NaN</td>\n",
       "      <td>5.6</td>\n",
       "      <td>MW</td>\n",
       "      <td>...</td>\n",
       "      <td>NaN</td>\n",
       "      <td>NaN</td>\n",
       "      <td>NaN</td>\n",
       "      <td>NaN</td>\n",
       "      <td>1.30</td>\n",
       "      <td>USP0002E81</td>\n",
       "      <td>US</td>\n",
       "      <td>US</td>\n",
       "      <td>HRV</td>\n",
       "      <td>Reviewed</td>\n",
       "    </tr>\n",
       "    <tr>\n",
       "      <th>20650</th>\n",
       "      <td>2011-03-13T02:23:34.520Z</td>\n",
       "      <td>2011-03-13T02:23:34.520Z</td>\n",
       "      <td>36.344</td>\n",
       "      <td>142.344</td>\n",
       "      <td>Earthquake</td>\n",
       "      <td>10.1</td>\n",
       "      <td>13.9</td>\n",
       "      <td>289.0</td>\n",
       "      <td>5.8</td>\n",
       "      <td>MWC</td>\n",
       "      <td>...</td>\n",
       "      <td>NaN</td>\n",
       "      <td>32.3</td>\n",
       "      <td>NaN</td>\n",
       "      <td>NaN</td>\n",
       "      <td>1.06</td>\n",
       "      <td>USP000HWQP</td>\n",
       "      <td>US</td>\n",
       "      <td>US</td>\n",
       "      <td>GCMT</td>\n",
       "      <td>Reviewed</td>\n",
       "    </tr>\n",
       "  </tbody>\n",
       "</table>\n",
       "<p>3 rows × 21 columns</p>\n",
       "</div>"
      ],
      "text/plain": [
       "                           Date                      Time  Latitude  \\\n",
       "3378   1975-02-23T02:58:41.000Z  1975-02-23T02:58:41.000Z     8.017   \n",
       "7512   1985-04-28T02:53:41.530Z  1985-04-28T02:53:41.530Z   -32.998   \n",
       "20650  2011-03-13T02:23:34.520Z  2011-03-13T02:23:34.520Z    36.344   \n",
       "\n",
       "       Longitude        Type  Depth  Depth Error  Depth Seismic Stations  \\\n",
       "3378     124.075  Earthquake  623.0          NaN                     NaN   \n",
       "7512     -71.766  Earthquake   33.0          NaN                     NaN   \n",
       "20650    142.344  Earthquake   10.1         13.9                   289.0   \n",
       "\n",
       "       Magnitude Magnitude Type  ...  Magnitude Seismic Stations  \\\n",
       "3378         5.6             MB  ...                         NaN   \n",
       "7512         5.6             MW  ...                         NaN   \n",
       "20650        5.8            MWC  ...                         NaN   \n",
       "\n",
       "       Azimuthal Gap  Horizontal Distance  Horizontal Error  Root Mean Square  \\\n",
       "3378             NaN                  NaN               NaN               NaN   \n",
       "7512             NaN                  NaN               NaN              1.30   \n",
       "20650           32.3                  NaN               NaN              1.06   \n",
       "\n",
       "               ID Source Location Source Magnitude Source    Status  \n",
       "3378   USP0000A09     US              US               US  Reviewed  \n",
       "7512   USP0002E81     US              US              HRV  Reviewed  \n",
       "20650  USP000HWQP     US              US             GCMT  Reviewed  \n",
       "\n",
       "[3 rows x 21 columns]"
      ]
     },
     "execution_count": 8,
     "metadata": {},
     "output_type": "execute_result"
    }
   ],
   "source": [
    "indices = np.where([date_lengths == 24])[1]\n",
    "print('Indices with corrupted data:', indices)\n",
    "earthquakes.loc[indices]"
   ]
  },
  {
   "cell_type": "markdown",
   "id": "00b73181",
   "metadata": {
    "papermill": {
     "duration": 0.026792,
     "end_time": "2022-01-27T18:35:32.197882",
     "exception": false,
     "start_time": "2022-01-27T18:35:32.171090",
     "status": "completed"
    },
    "tags": []
   },
   "source": [
    "Given all of this information, it's your turn to create a new column \"date_parsed\" in the `earthquakes` dataset that has correctly parsed dates in it.  \n",
    "\n",
    "**Note**: When completing this problem, you are allowed to (but are not required to) amend the entries in the \"Date\" and \"Time\" columns.  Do not remove any rows from the dataset."
   ]
  },
  {
   "cell_type": "code",
   "execution_count": 9,
   "id": "f8fdb9be",
   "metadata": {
    "execution": {
     "iopub.execute_input": "2022-01-27T18:35:32.259648Z",
     "iopub.status.busy": "2022-01-27T18:35:32.258557Z",
     "iopub.status.idle": "2022-01-27T18:35:32.327720Z",
     "shell.execute_reply": "2022-01-27T18:35:32.327157Z",
     "shell.execute_reply.started": "2022-01-26T17:06:46.185577Z"
    },
    "papermill": {
     "duration": 0.103254,
     "end_time": "2022-01-27T18:35:32.327863",
     "exception": false,
     "start_time": "2022-01-27T18:35:32.224609",
     "status": "completed"
    },
    "tags": []
   },
   "outputs": [
    {
     "data": {
      "application/javascript": [
       "parent.postMessage({\"jupyterEvent\": \"custom.exercise_interaction\", \"data\": {\"outcomeType\": 1, \"valueTowardsCompletion\": 0.25, \"interactionType\": 1, \"questionType\": 2, \"questionId\": \"2_ConvertToDatetime\", \"learnToolsVersion\": \"0.3.4\", \"failureMessage\": \"\", \"exceptionClass\": \"\", \"trace\": \"\"}}, \"*\")"
      ],
      "text/plain": [
       "<IPython.core.display.Javascript object>"
      ]
     },
     "metadata": {},
     "output_type": "display_data"
    },
    {
     "data": {
      "text/markdown": [
       "<span style=\"color:#33cc33\">Correct</span>"
      ],
      "text/plain": [
       "Correct"
      ]
     },
     "metadata": {},
     "output_type": "display_data"
    }
   ],
   "source": [
    "# TODO: Your code here\n",
    "earthquakes.loc[3378,\"Date\"]=\"02/23/1975\"\n",
    "earthquakes.loc[7512,\"Date\"]=\"08/28/1985\"\n",
    "earthquakes.loc[20650,\"Date\"]=\"03/13/2011\"\n",
    "\n",
    "earthquakes['date_parsed']=pd.to_datetime(earthquakes['Date'],format=\"%m/%d/%Y\")\n",
    "# Check your answer\n",
    "q2.check()"
   ]
  },
  {
   "cell_type": "code",
   "execution_count": 10,
   "id": "02432e66",
   "metadata": {
    "execution": {
     "iopub.execute_input": "2022-01-27T18:35:32.391437Z",
     "iopub.status.busy": "2022-01-27T18:35:32.390210Z",
     "iopub.status.idle": "2022-01-27T18:35:32.392785Z",
     "shell.execute_reply": "2022-01-27T18:35:32.393349Z",
     "shell.execute_reply.started": "2022-01-26T17:06:46.25444Z"
    },
    "papermill": {
     "duration": 0.03735,
     "end_time": "2022-01-27T18:35:32.393525",
     "exception": false,
     "start_time": "2022-01-27T18:35:32.356175",
     "status": "completed"
    },
    "tags": []
   },
   "outputs": [],
   "source": [
    "# Lines below will give you a hint or solution code\n",
    "#q2.hint()\n",
    "#q2.solution()"
   ]
  },
  {
   "cell_type": "markdown",
   "id": "17906b03",
   "metadata": {
    "papermill": {
     "duration": 0.027946,
     "end_time": "2022-01-27T18:35:32.450271",
     "exception": false,
     "start_time": "2022-01-27T18:35:32.422325",
     "status": "completed"
    },
    "tags": []
   },
   "source": [
    "# 3) Select the day of the month\n",
    "\n",
    "Create a Pandas Series `day_of_month_earthquakes` containing the day of the month from the \"date_parsed\" column."
   ]
  },
  {
   "cell_type": "code",
   "execution_count": 11,
   "id": "cddfe81a",
   "metadata": {
    "execution": {
     "iopub.execute_input": "2022-01-27T18:35:32.514326Z",
     "iopub.status.busy": "2022-01-27T18:35:32.513382Z",
     "iopub.status.idle": "2022-01-27T18:35:32.524706Z",
     "shell.execute_reply": "2022-01-27T18:35:32.525312Z",
     "shell.execute_reply.started": "2022-01-26T17:06:46.259285Z"
    },
    "papermill": {
     "duration": 0.046094,
     "end_time": "2022-01-27T18:35:32.525488",
     "exception": false,
     "start_time": "2022-01-27T18:35:32.479394",
     "status": "completed"
    },
    "tags": []
   },
   "outputs": [
    {
     "data": {
      "application/javascript": [
       "parent.postMessage({\"jupyterEvent\": \"custom.exercise_interaction\", \"data\": {\"outcomeType\": 1, \"valueTowardsCompletion\": 0.25, \"interactionType\": 1, \"questionType\": 1, \"questionId\": \"3_DayOfMonth\", \"learnToolsVersion\": \"0.3.4\", \"failureMessage\": \"\", \"exceptionClass\": \"\", \"trace\": \"\"}}, \"*\")"
      ],
      "text/plain": [
       "<IPython.core.display.Javascript object>"
      ]
     },
     "metadata": {},
     "output_type": "display_data"
    },
    {
     "data": {
      "text/markdown": [
       "<span style=\"color:#33cc33\">Correct</span>"
      ],
      "text/plain": [
       "Correct"
      ]
     },
     "metadata": {},
     "output_type": "display_data"
    }
   ],
   "source": [
    "# try to get the day of the month from the date column\n",
    "day_of_month_earthquakes = earthquakes['date_parsed'].dt.day\n",
    "day_of_month_earthquakes.head()\n",
    "\n",
    "# Check your answer\n",
    "q3.check()"
   ]
  },
  {
   "cell_type": "code",
   "execution_count": 12,
   "id": "b9bb9d09",
   "metadata": {
    "execution": {
     "iopub.execute_input": "2022-01-27T18:35:32.591801Z",
     "iopub.status.busy": "2022-01-27T18:35:32.589257Z",
     "iopub.status.idle": "2022-01-27T18:35:32.592683Z",
     "shell.execute_reply": "2022-01-27T18:35:32.593334Z",
     "shell.execute_reply.started": "2022-01-26T17:06:46.277738Z"
    },
    "papermill": {
     "duration": 0.038333,
     "end_time": "2022-01-27T18:35:32.593522",
     "exception": false,
     "start_time": "2022-01-27T18:35:32.555189",
     "status": "completed"
    },
    "tags": []
   },
   "outputs": [],
   "source": [
    "# Lines below will give you a hint or solution code\n",
    "#q3.hint()\n",
    "#q3.solution()"
   ]
  },
  {
   "cell_type": "markdown",
   "id": "ca6f14c2",
   "metadata": {
    "papermill": {
     "duration": 0.02987,
     "end_time": "2022-01-27T18:35:32.653486",
     "exception": false,
     "start_time": "2022-01-27T18:35:32.623616",
     "status": "completed"
    },
    "tags": []
   },
   "source": [
    "# 4) Plot the day of the month to check the date parsing\n",
    "\n",
    "Plot the days of the month from your earthquake dataset."
   ]
  },
  {
   "cell_type": "code",
   "execution_count": 13,
   "id": "6efe4b14",
   "metadata": {
    "execution": {
     "iopub.execute_input": "2022-01-27T18:35:32.718284Z",
     "iopub.status.busy": "2022-01-27T18:35:32.717429Z",
     "iopub.status.idle": "2022-01-27T18:35:33.254544Z",
     "shell.execute_reply": "2022-01-27T18:35:33.253977Z",
     "shell.execute_reply.started": "2022-01-26T17:06:46.283758Z"
    },
    "papermill": {
     "duration": 0.57122,
     "end_time": "2022-01-27T18:35:33.254698",
     "exception": false,
     "start_time": "2022-01-27T18:35:32.683478",
     "status": "completed"
    },
    "tags": []
   },
   "outputs": [
    {
     "name": "stderr",
     "output_type": "stream",
     "text": [
      "/opt/conda/lib/python3.7/site-packages/seaborn/distributions.py:2619: FutureWarning: `distplot` is a deprecated function and will be removed in a future version. Please adapt your code to use either `displot` (a figure-level function with similar flexibility) or `histplot` (an axes-level function for histograms).\n",
      "  warnings.warn(msg, FutureWarning)\n"
     ]
    },
    {
     "data": {
      "text/plain": [
       "<AxesSubplot:xlabel='date_parsed', ylabel='Density'>"
      ]
     },
     "execution_count": 13,
     "metadata": {},
     "output_type": "execute_result"
    },
    {
     "data": {
      "image/png": "[encoded data removed]",
      "text/plain": [
       "<Figure size 432x288 with 1 Axes>"
      ]
     },
     "metadata": {
      "needs_background": "light"
     },
     "output_type": "display_data"
    }
   ],
   "source": [
    "# TODO: Your code here!\n",
    "day_of_month_earthquakes=day_of_month_earthquakes.dropna()\n",
    "\n",
    "sns.distplot(day_of_month_earthquakes,bins=31)"
   ]
  },
  {
   "cell_type": "markdown",
   "id": "aea81ee0",
   "metadata": {
    "papermill": {
     "duration": 0.031079,
     "end_time": "2022-01-27T18:35:33.316579",
     "exception": false,
     "start_time": "2022-01-27T18:35:33.285500",
     "status": "completed"
    },
    "tags": []
   },
   "source": [
    "Does the graph make sense to you?"
   ]
  },
  {
   "cell_type": "code",
   "execution_count": 14,
   "id": "5526d793",
   "metadata": {
    "execution": {
     "iopub.execute_input": "2022-01-27T18:35:33.383656Z",
     "iopub.status.busy": "2022-01-27T18:35:33.382992Z",
     "iopub.status.idle": "2022-01-27T18:35:33.393028Z",
     "shell.execute_reply": "2022-01-27T18:35:33.392456Z",
     "shell.execute_reply.started": "2022-01-26T17:06:46.712892Z"
    },
    "papermill": {
     "duration": 0.045783,
     "end_time": "2022-01-27T18:35:33.393173",
     "exception": false,
     "start_time": "2022-01-27T18:35:33.347390",
     "status": "completed"
    },
    "tags": []
   },
   "outputs": [
    {
     "data": {
      "application/javascript": [
       "parent.postMessage({\"jupyterEvent\": \"custom.exercise_interaction\", \"data\": {\"outcomeType\": 1, \"valueTowardsCompletion\": 0.25, \"interactionType\": 1, \"questionType\": 4, \"questionId\": \"4_PlotDayOfMonth\", \"learnToolsVersion\": \"0.3.4\", \"failureMessage\": \"\", \"exceptionClass\": \"\", \"trace\": \"\"}}, \"*\")"
      ],
      "text/plain": [
       "<IPython.core.display.Javascript object>"
      ]
     },
     "metadata": {},
     "output_type": "display_data"
    },
    {
     "data": {
      "text/markdown": [
       "<span style=\"color:#33cc33\">Correct:</span> \n",
       "\n",
       "The graph should make sense: it shows a relatively even distribution in days of the month,which is what we would expect."
      ],
      "text/plain": [
       "Correct: \n",
       "\n",
       "The graph should make sense: it shows a relatively even distribution in days of the month,which is what we would expect."
      ]
     },
     "metadata": {},
     "output_type": "display_data"
    }
   ],
   "source": [
    "# Check your answer (Run this code cell to receive credit!)\n",
    "q4.check()"
   ]
  },
  {
   "cell_type": "code",
   "execution_count": 15,
   "id": "ba9f4944",
   "metadata": {
    "execution": {
     "iopub.execute_input": "2022-01-27T18:35:33.461539Z",
     "iopub.status.busy": "2022-01-27T18:35:33.460388Z",
     "iopub.status.idle": "2022-01-27T18:35:33.462833Z",
     "shell.execute_reply": "2022-01-27T18:35:33.463441Z",
     "shell.execute_reply.started": "2022-01-26T17:06:46.724388Z"
    },
    "papermill": {
     "duration": 0.038586,
     "end_time": "2022-01-27T18:35:33.463601",
     "exception": false,
     "start_time": "2022-01-27T18:35:33.425015",
     "status": "completed"
    },
    "tags": []
   },
   "outputs": [],
   "source": [
    "# Line below will give you a hint\n",
    "#q4.hint()"
   ]
  },
  {
   "cell_type": "markdown",
   "id": "509db358",
   "metadata": {
    "papermill": {
     "duration": 0.032353,
     "end_time": "2022-01-27T18:35:33.527556",
     "exception": false,
     "start_time": "2022-01-27T18:35:33.495203",
     "status": "completed"
    },
    "tags": []
   },
   "source": [
    "# (Optional) Bonus Challenge\n",
    "\n",
    "For an extra challenge, you'll work with a [Smithsonian dataset](https://www.kaggle.com/smithsonian/volcanic-eruptions) that documents Earth's volcanoes and their eruptive history over the past 10,000 years \n",
    "\n",
    "Run the next code cell to load the data."
   ]
  },
  {
   "cell_type": "code",
   "execution_count": 16,
   "id": "d4be3c3a",
   "metadata": {
    "execution": {
     "iopub.execute_input": "2022-01-27T18:35:33.596864Z",
     "iopub.status.busy": "2022-01-27T18:35:33.596113Z",
     "iopub.status.idle": "2022-01-27T18:35:33.623180Z",
     "shell.execute_reply": "2022-01-27T18:35:33.622493Z",
     "shell.execute_reply.started": "2022-01-26T17:06:46.729563Z"
    },
    "papermill": {
     "duration": 0.063309,
     "end_time": "2022-01-27T18:35:33.623325",
     "exception": false,
     "start_time": "2022-01-27T18:35:33.560016",
     "status": "completed"
    },
    "tags": []
   },
   "outputs": [],
   "source": [
    "volcanos = pd.read_csv(\"../input/volcanic-eruptions/database.csv\")"
   ]
  },
  {
   "cell_type": "markdown",
   "id": "35e6587b",
   "metadata": {
    "papermill": {
     "duration": 0.031216,
     "end_time": "2022-01-27T18:35:33.686423",
     "exception": false,
     "start_time": "2022-01-27T18:35:33.655207",
     "status": "completed"
    },
    "tags": []
   },
   "source": [
    "Try parsing the column \"Last Known Eruption\" from the `volcanos` dataframe. This column contains a mixture of text (\"Unknown\") and years both before the common era (BCE, also known as BC) and in the common era (CE, also known as AD)."
   ]
  },
  {
   "cell_type": "code",
   "execution_count": 17,
   "id": "8e22cf44",
   "metadata": {
    "execution": {
     "iopub.execute_input": "2022-01-27T18:35:33.756074Z",
     "iopub.status.busy": "2022-01-27T18:35:33.751995Z",
     "iopub.status.idle": "2022-01-27T18:35:33.760186Z",
     "shell.execute_reply": "2022-01-27T18:35:33.759620Z",
     "shell.execute_reply.started": "2022-01-26T17:06:46.754912Z"
    },
    "papermill": {
     "duration": 0.042832,
     "end_time": "2022-01-27T18:35:33.760325",
     "exception": false,
     "start_time": "2022-01-27T18:35:33.717493",
     "status": "completed"
    },
    "tags": []
   },
   "outputs": [
    {
     "data": {
      "text/plain": [
       "764     Unknown\n",
       "1069    1996 CE\n",
       "34      1855 CE\n",
       "489     2016 CE\n",
       "9       1302 CE\n",
       "Name: Last Known Eruption, dtype: object"
      ]
     },
     "execution_count": 17,
     "metadata": {},
     "output_type": "execute_result"
    }
   ],
   "source": [
    "volcanos['Last Known Eruption'].sample(5)"
   ]
  },
  {
   "cell_type": "markdown",
   "id": "05d50314",
   "metadata": {
    "papermill": {
     "duration": 0.031803,
     "end_time": "2022-01-27T18:35:33.823662",
     "exception": false,
     "start_time": "2022-01-27T18:35:33.791859",
     "status": "completed"
    },
    "tags": []
   },
   "source": [
    "# (Optional) More practice\n",
    "\n",
    "If you're interested in graphing time series, [check out this tutorial](https://www.kaggle.com/residentmario/time-series-plotting-optional).\n",
    "\n",
    "You can also look into passing columns that you know have dates in them  the `parse_dates` argument in `read_csv`. (The documention [is here](https://pandas.pydata.org/pandas-docs/stable/generated/pandas.read_csv.html).) Do note that this method can be very slow, but depending on your needs it may sometimes be handy to use.\n",
    "\n",
    "# Keep going\n",
    "\n",
    "In the next lesson, learn how to [**work with character encodings**](https://www.kaggle.com/alexisbcook/character-encodings)."
   ]
  },
  {
   "cell_type": "markdown",
   "id": "0b3ce02f",
   "metadata": {
    "papermill": {
     "duration": 0.031555,
     "end_time": "2022-01-27T18:35:33.886843",
     "exception": false,
     "start_time": "2022-01-27T18:35:33.855288",
     "status": "completed"
    },
    "tags": []
   },
   "source": [
    "---\n",
    "\n",
    "\n",
    "\n",
    "\n",
    "*Have questions or comments? Visit the [course discussion forum](https://www.kaggle.com/learn/data-cleaning/discussion) to chat with other learners.*"
   ]
  }
 ],
 "metadata": {
  "kernelspec": {
   "display_name": "Python 3",
   "language": "python",
   "name": "python3"
  },
  "language_info": {
   "codemirror_mode": {
    "name": "ipython",
    "version": 3
   },
   "file_extension": ".py",
   "mimetype": "text/x-python",
   "name": "python",
   "nbconvert_exporter": "python",
   "pygments_lexer": "ipython3",
   "version": "3.7.12"
  },
  "papermill": {
   "default_parameters": {},
   "duration": 14.696385,
   "end_time": "2022-01-27T18:35:34.427650",
   "environment_variables": {},
   "exception": null,
   "input_path": "__notebook__.ipynb",
   "output_path": "__notebook__.ipynb",
   "parameters": {},
   "start_time": "2022-01-27T18:35:19.731265",
   "version": "2.3.3"
  }
 },
 "nbformat": 4,
 "nbformat_minor": 5
}
