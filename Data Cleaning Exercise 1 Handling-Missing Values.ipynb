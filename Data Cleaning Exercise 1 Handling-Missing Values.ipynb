{
 "cells": [
  {
   "cell_type": "markdown",
   "id": "9cae4ae9",
   "metadata": {
    "papermill": {
     "duration": 0.017971,
     "end_time": "2022-01-27T18:26:48.276424",
     "exception": false,
     "start_time": "2022-01-27T18:26:48.258453",
     "status": "completed"
    },
    "tags": []
   },
   "source": [
    "**This notebook is an exercise in the [Data Cleaning](https://www.kaggle.com/learn/data-cleaning) course.  You can reference the tutorial at [this link](https://www.kaggle.com/alexisbcook/handling-missing-values).**\n",
    "\n",
    "---\n"
   ]
  },
  {
   "cell_type": "markdown",
   "id": "0d6b26f1",
   "metadata": {
    "papermill": {
     "duration": 0.016375,
     "end_time": "2022-01-27T18:26:48.311324",
     "exception": false,
     "start_time": "2022-01-27T18:26:48.294949",
     "status": "completed"
    },
    "tags": []
   },
   "source": [
    "In this exercise, you'll apply what you learned in the **Handling missing values** tutorial.\n",
    "\n",
    "# Setup\n",
    "\n",
    "The questions below will give you feedback on your work. Run the following cell to set up the feedback system."
   ]
  },
  {
   "cell_type": "code",
   "execution_count": 1,
   "id": "25e19dfb",
   "metadata": {
    "execution": {
     "iopub.execute_input": "2022-01-27T18:26:48.356333Z",
     "iopub.status.busy": "2022-01-27T18:26:48.355486Z",
     "iopub.status.idle": "2022-01-27T18:26:52.832901Z",
     "shell.execute_reply": "2022-01-27T18:26:52.833452Z",
     "shell.execute_reply.started": "2022-01-25T15:40:56.838792Z"
    },
    "papermill": {
     "duration": 4.50576,
     "end_time": "2022-01-27T18:26:52.833755",
     "exception": false,
     "start_time": "2022-01-27T18:26:48.327995",
     "status": "completed"
    },
    "tags": []
   },
   "outputs": [
    {
     "name": "stderr",
     "output_type": "stream",
     "text": [
      "/opt/conda/lib/python3.7/site-packages/ipykernel_launcher.py:3: DtypeWarning: Columns (22,32) have mixed types.Specify dtype option on import or set low_memory=False.\n",
      "  This is separate from the ipykernel package so we can avoid doing imports until\n"
     ]
    },
    {
     "name": "stdout",
     "output_type": "stream",
     "text": [
      "Setup Complete\n"
     ]
    }
   ],
   "source": [
    "from learntools.core import binder\n",
    "binder.bind(globals())\n",
    "from learntools.data_cleaning.ex1 import *\n",
    "print(\"Setup Complete\")"
   ]
  },
  {
   "cell_type": "markdown",
   "id": "e5ded4cc",
   "metadata": {
    "papermill": {
     "duration": 0.017278,
     "end_time": "2022-01-27T18:26:52.868642",
     "exception": false,
     "start_time": "2022-01-27T18:26:52.851364",
     "status": "completed"
    },
    "tags": []
   },
   "source": [
    "# 1) Take a first look at the data\n",
    "\n",
    "Run the next code cell to load in the libraries and dataset you'll use to complete the exercise."
   ]
  },
  {
   "cell_type": "code",
   "execution_count": 2,
   "id": "097647f7",
   "metadata": {
    "execution": {
     "iopub.execute_input": "2022-01-27T18:26:52.908144Z",
     "iopub.status.busy": "2022-01-27T18:26:52.906985Z",
     "iopub.status.idle": "2022-01-27T18:26:54.259589Z",
     "shell.execute_reply": "2022-01-27T18:26:54.258687Z",
     "shell.execute_reply.started": "2022-01-25T15:41:20.171726Z"
    },
    "papermill": {
     "duration": 1.374159,
     "end_time": "2022-01-27T18:26:54.259766",
     "exception": false,
     "start_time": "2022-01-27T18:26:52.885607",
     "status": "completed"
    },
    "tags": []
   },
   "outputs": [
    {
     "name": "stderr",
     "output_type": "stream",
     "text": [
      "/opt/conda/lib/python3.7/site-packages/IPython/core/interactiveshell.py:3457: DtypeWarning: Columns (22,32) have mixed types.Specify dtype option on import or set low_memory=False.\n",
      "  exec(code_obj, self.user_global_ns, self.user_ns)\n"
     ]
    }
   ],
   "source": [
    "# modules we'll use\n",
    "import pandas as pd\n",
    "import numpy as np\n",
    "\n",
    "# read in all our data\n",
    "sf_permits = pd.read_csv(\"../input/building-permit-applications-data/Building_Permits.csv\")\n",
    "\n",
    "# set seed for reproducibility\n",
    "np.random.seed(0) "
   ]
  },
  {
   "cell_type": "markdown",
   "id": "79f3006a",
   "metadata": {
    "papermill": {
     "duration": 0.017728,
     "end_time": "2022-01-27T18:26:54.296132",
     "exception": false,
     "start_time": "2022-01-27T18:26:54.278404",
     "status": "completed"
    },
    "tags": []
   },
   "source": [
    "Use the code cell below to print the first five rows of the `sf_permits` DataFrame."
   ]
  },
  {
   "cell_type": "code",
   "execution_count": 3,
   "id": "0c0e9f93",
   "metadata": {
    "execution": {
     "iopub.execute_input": "2022-01-27T18:26:54.342292Z",
     "iopub.status.busy": "2022-01-27T18:26:54.341499Z",
     "iopub.status.idle": "2022-01-27T18:26:54.366918Z",
     "shell.execute_reply": "2022-01-27T18:26:54.367349Z",
     "shell.execute_reply.started": "2022-01-25T15:41:50.503919Z"
    },
    "papermill": {
     "duration": 0.05348,
     "end_time": "2022-01-27T18:26:54.367503",
     "exception": false,
     "start_time": "2022-01-27T18:26:54.314023",
     "status": "completed"
    },
    "tags": []
   },
   "outputs": [
    {
     "data": {
      "text/html": [
       "<div>\n",
       "<style scoped>\n",
       "    .dataframe tbody tr th:only-of-type {\n",
       "        vertical-align: middle;\n",
       "    }\n",
       "\n",
       "    .dataframe tbody tr th {\n",
       "        vertical-align: top;\n",
       "    }\n",
       "\n",
       "    .dataframe thead th {\n",
       "        text-align: right;\n",
       "    }\n",
       "</style>\n",
       "<table border=\"1\" class=\"dataframe\">\n",
       "  <thead>\n",
       "    <tr style=\"text-align: right;\">\n",
       "      <th></th>\n",
       "      <th>Permit Number</th>\n",
       "      <th>Permit Type</th>\n",
       "      <th>Permit Type Definition</th>\n",
       "      <th>Permit Creation Date</th>\n",
       "      <th>Block</th>\n",
       "      <th>Lot</th>\n",
       "      <th>Street Number</th>\n",
       "      <th>Street Number Suffix</th>\n",
       "      <th>Street Name</th>\n",
       "      <th>Street Suffix</th>\n",
       "      <th>...</th>\n",
       "      <th>Existing Construction Type</th>\n",
       "      <th>Existing Construction Type Description</th>\n",
       "      <th>Proposed Construction Type</th>\n",
       "      <th>Proposed Construction Type Description</th>\n",
       "      <th>Site Permit</th>\n",
       "      <th>Supervisor District</th>\n",
       "      <th>Neighborhoods - Analysis Boundaries</th>\n",
       "      <th>Zipcode</th>\n",
       "      <th>Location</th>\n",
       "      <th>Record ID</th>\n",
       "    </tr>\n",
       "  </thead>\n",
       "  <tbody>\n",
       "    <tr>\n",
       "      <th>0</th>\n",
       "      <td>201505065519</td>\n",
       "      <td>4</td>\n",
       "      <td>sign - erect</td>\n",
       "      <td>05/06/2015</td>\n",
       "      <td>0326</td>\n",
       "      <td>023</td>\n",
       "      <td>140</td>\n",
       "      <td>NaN</td>\n",
       "      <td>Ellis</td>\n",
       "      <td>St</td>\n",
       "      <td>...</td>\n",
       "      <td>3.0</td>\n",
       "      <td>constr type 3</td>\n",
       "      <td>NaN</td>\n",
       "      <td>NaN</td>\n",
       "      <td>NaN</td>\n",
       "      <td>3.0</td>\n",
       "      <td>Tenderloin</td>\n",
       "      <td>94102.0</td>\n",
       "      <td>(37.785719256680785, -122.40852313194863)</td>\n",
       "      <td>1380611233945</td>\n",
       "    </tr>\n",
       "    <tr>\n",
       "      <th>1</th>\n",
       "      <td>201604195146</td>\n",
       "      <td>4</td>\n",
       "      <td>sign - erect</td>\n",
       "      <td>04/19/2016</td>\n",
       "      <td>0306</td>\n",
       "      <td>007</td>\n",
       "      <td>440</td>\n",
       "      <td>NaN</td>\n",
       "      <td>Geary</td>\n",
       "      <td>St</td>\n",
       "      <td>...</td>\n",
       "      <td>3.0</td>\n",
       "      <td>constr type 3</td>\n",
       "      <td>NaN</td>\n",
       "      <td>NaN</td>\n",
       "      <td>NaN</td>\n",
       "      <td>3.0</td>\n",
       "      <td>Tenderloin</td>\n",
       "      <td>94102.0</td>\n",
       "      <td>(37.78733980600732, -122.41063199757738)</td>\n",
       "      <td>1420164406718</td>\n",
       "    </tr>\n",
       "    <tr>\n",
       "      <th>2</th>\n",
       "      <td>201605278609</td>\n",
       "      <td>3</td>\n",
       "      <td>additions alterations or repairs</td>\n",
       "      <td>05/27/2016</td>\n",
       "      <td>0595</td>\n",
       "      <td>203</td>\n",
       "      <td>1647</td>\n",
       "      <td>NaN</td>\n",
       "      <td>Pacific</td>\n",
       "      <td>Av</td>\n",
       "      <td>...</td>\n",
       "      <td>1.0</td>\n",
       "      <td>constr type 1</td>\n",
       "      <td>1.0</td>\n",
       "      <td>constr type 1</td>\n",
       "      <td>NaN</td>\n",
       "      <td>3.0</td>\n",
       "      <td>Russian Hill</td>\n",
       "      <td>94109.0</td>\n",
       "      <td>(37.7946573324287, -122.42232562979227)</td>\n",
       "      <td>1424856504716</td>\n",
       "    </tr>\n",
       "    <tr>\n",
       "      <th>3</th>\n",
       "      <td>201611072166</td>\n",
       "      <td>8</td>\n",
       "      <td>otc alterations permit</td>\n",
       "      <td>11/07/2016</td>\n",
       "      <td>0156</td>\n",
       "      <td>011</td>\n",
       "      <td>1230</td>\n",
       "      <td>NaN</td>\n",
       "      <td>Pacific</td>\n",
       "      <td>Av</td>\n",
       "      <td>...</td>\n",
       "      <td>5.0</td>\n",
       "      <td>wood frame (5)</td>\n",
       "      <td>5.0</td>\n",
       "      <td>wood frame (5)</td>\n",
       "      <td>NaN</td>\n",
       "      <td>3.0</td>\n",
       "      <td>Nob Hill</td>\n",
       "      <td>94109.0</td>\n",
       "      <td>(37.79595867909168, -122.41557405519474)</td>\n",
       "      <td>1443574295566</td>\n",
       "    </tr>\n",
       "    <tr>\n",
       "      <th>4</th>\n",
       "      <td>201611283529</td>\n",
       "      <td>6</td>\n",
       "      <td>demolitions</td>\n",
       "      <td>11/28/2016</td>\n",
       "      <td>0342</td>\n",
       "      <td>001</td>\n",
       "      <td>950</td>\n",
       "      <td>NaN</td>\n",
       "      <td>Market</td>\n",
       "      <td>St</td>\n",
       "      <td>...</td>\n",
       "      <td>3.0</td>\n",
       "      <td>constr type 3</td>\n",
       "      <td>NaN</td>\n",
       "      <td>NaN</td>\n",
       "      <td>NaN</td>\n",
       "      <td>6.0</td>\n",
       "      <td>Tenderloin</td>\n",
       "      <td>94102.0</td>\n",
       "      <td>(37.78315261897309, -122.40950883997789)</td>\n",
       "      <td>144548169992</td>\n",
       "    </tr>\n",
       "  </tbody>\n",
       "</table>\n",
       "<p>5 rows × 43 columns</p>\n",
       "</div>"
      ],
      "text/plain": [
       "  Permit Number  Permit Type            Permit Type Definition  \\\n",
       "0  201505065519            4                      sign - erect   \n",
       "1  201604195146            4                      sign - erect   \n",
       "2  201605278609            3  additions alterations or repairs   \n",
       "3  201611072166            8            otc alterations permit   \n",
       "4  201611283529            6                       demolitions   \n",
       "\n",
       "  Permit Creation Date Block  Lot  Street Number Street Number Suffix  \\\n",
       "0           05/06/2015  0326  023            140                  NaN   \n",
       "1           04/19/2016  0306  007            440                  NaN   \n",
       "2           05/27/2016  0595  203           1647                  NaN   \n",
       "3           11/07/2016  0156  011           1230                  NaN   \n",
       "4           11/28/2016  0342  001            950                  NaN   \n",
       "\n",
       "  Street Name Street Suffix  ...  Existing Construction Type  \\\n",
       "0       Ellis            St  ...                         3.0   \n",
       "1       Geary            St  ...                         3.0   \n",
       "2     Pacific            Av  ...                         1.0   \n",
       "3     Pacific            Av  ...                         5.0   \n",
       "4      Market            St  ...                         3.0   \n",
       "\n",
       "  Existing Construction Type Description Proposed Construction Type  \\\n",
       "0                          constr type 3                        NaN   \n",
       "1                          constr type 3                        NaN   \n",
       "2                          constr type 1                        1.0   \n",
       "3                         wood frame (5)                        5.0   \n",
       "4                          constr type 3                        NaN   \n",
       "\n",
       "  Proposed Construction Type Description Site Permit Supervisor District  \\\n",
       "0                                    NaN         NaN                 3.0   \n",
       "1                                    NaN         NaN                 3.0   \n",
       "2                          constr type 1         NaN                 3.0   \n",
       "3                         wood frame (5)         NaN                 3.0   \n",
       "4                                    NaN         NaN                 6.0   \n",
       "\n",
       "  Neighborhoods - Analysis Boundaries  Zipcode  \\\n",
       "0                          Tenderloin  94102.0   \n",
       "1                          Tenderloin  94102.0   \n",
       "2                        Russian Hill  94109.0   \n",
       "3                            Nob Hill  94109.0   \n",
       "4                          Tenderloin  94102.0   \n",
       "\n",
       "                                    Location      Record ID  \n",
       "0  (37.785719256680785, -122.40852313194863)  1380611233945  \n",
       "1   (37.78733980600732, -122.41063199757738)  1420164406718  \n",
       "2    (37.7946573324287, -122.42232562979227)  1424856504716  \n",
       "3   (37.79595867909168, -122.41557405519474)  1443574295566  \n",
       "4   (37.78315261897309, -122.40950883997789)   144548169992  \n",
       "\n",
       "[5 rows x 43 columns]"
      ]
     },
     "execution_count": 3,
     "metadata": {},
     "output_type": "execute_result"
    }
   ],
   "source": [
    "# TODO: Your code here!\n",
    "sf_permits.head()"
   ]
  },
  {
   "cell_type": "markdown",
   "id": "ea89da68",
   "metadata": {
    "papermill": {
     "duration": 0.017813,
     "end_time": "2022-01-27T18:26:54.404433",
     "exception": false,
     "start_time": "2022-01-27T18:26:54.386620",
     "status": "completed"
    },
    "tags": []
   },
   "source": [
    "Does the dataset have any missing values?  Once you have an answer, run the code cell below to get credit for your work."
   ]
  },
  {
   "cell_type": "code",
   "execution_count": 4,
   "id": "d245e629",
   "metadata": {
    "execution": {
     "iopub.execute_input": "2022-01-27T18:26:54.446661Z",
     "iopub.status.busy": "2022-01-27T18:26:54.444661Z",
     "iopub.status.idle": "2022-01-27T18:26:54.450517Z",
     "shell.execute_reply": "2022-01-27T18:26:54.450047Z",
     "shell.execute_reply.started": "2022-01-25T15:41:56.444027Z"
    },
    "papermill": {
     "duration": 0.028322,
     "end_time": "2022-01-27T18:26:54.450626",
     "exception": false,
     "start_time": "2022-01-27T18:26:54.422304",
     "status": "completed"
    },
    "tags": []
   },
   "outputs": [
    {
     "data": {
      "application/javascript": [
       "parent.postMessage({\"jupyterEvent\": \"custom.exercise_interaction\", \"data\": {\"outcomeType\": 1, \"valueTowardsCompletion\": 0.16666666666666666, \"interactionType\": 1, \"questionType\": 4, \"questionId\": \"1_TakeFirstLook\", \"learnToolsVersion\": \"0.3.4\", \"failureMessage\": \"\", \"exceptionClass\": \"\", \"trace\": \"\"}}, \"*\")"
      ],
      "text/plain": [
       "<IPython.core.display.Javascript object>"
      ]
     },
     "metadata": {},
     "output_type": "display_data"
    },
    {
     "data": {
      "text/markdown": [
       "<span style=\"color:#33cc33\">Correct:</span> \n",
       "\n",
       "The first five rows of the data does show that several columns have missing values.  You can see this in the \"Street Number Suffix\", \"Proposed Construction Type\" and \"Site Permit\" columns, among others."
      ],
      "text/plain": [
       "Correct: \n",
       "\n",
       "The first five rows of the data does show that several columns have missing values.  You can see this in the \"Street Number Suffix\", \"Proposed Construction Type\" and \"Site Permit\" columns, among others."
      ]
     },
     "metadata": {},
     "output_type": "display_data"
    }
   ],
   "source": [
    "# Check your answer (Run this code cell to receive credit!)\n",
    "q1.check()"
   ]
  },
  {
   "cell_type": "code",
   "execution_count": 5,
   "id": "305f791b",
   "metadata": {
    "execution": {
     "iopub.execute_input": "2022-01-27T18:26:54.492779Z",
     "iopub.status.busy": "2022-01-27T18:26:54.491242Z",
     "iopub.status.idle": "2022-01-27T18:26:54.493405Z",
     "shell.execute_reply": "2022-01-27T18:26:54.493815Z"
    },
    "papermill": {
     "duration": 0.024664,
     "end_time": "2022-01-27T18:26:54.493944",
     "exception": false,
     "start_time": "2022-01-27T18:26:54.469280",
     "status": "completed"
    },
    "tags": []
   },
   "outputs": [],
   "source": [
    "# Line below will give you a hint\n",
    "#q1.hint()"
   ]
  },
  {
   "cell_type": "markdown",
   "id": "deee6e9b",
   "metadata": {
    "papermill": {
     "duration": 0.018906,
     "end_time": "2022-01-27T18:26:54.532164",
     "exception": false,
     "start_time": "2022-01-27T18:26:54.513258",
     "status": "completed"
    },
    "tags": []
   },
   "source": [
    "# 2) How many missing data points do we have?\n",
    "\n",
    "What percentage of the values in the dataset are missing?  Your answer should be a number between 0 and 100.  (If 1/4 of the values in the dataset are missing, the answer is 25.)"
   ]
  },
  {
   "cell_type": "code",
   "execution_count": 6,
   "id": "83f4f351",
   "metadata": {
    "execution": {
     "iopub.execute_input": "2022-01-27T18:26:54.574943Z",
     "iopub.status.busy": "2022-01-27T18:26:54.574109Z",
     "iopub.status.idle": "2022-01-27T18:26:54.993594Z",
     "shell.execute_reply": "2022-01-27T18:26:54.993091Z",
     "shell.execute_reply.started": "2022-01-25T16:19:15.837876Z"
    },
    "papermill": {
     "duration": 0.442889,
     "end_time": "2022-01-27T18:26:54.993718",
     "exception": false,
     "start_time": "2022-01-27T18:26:54.550829",
     "status": "completed"
    },
    "tags": []
   },
   "outputs": [
    {
     "name": "stdout",
     "output_type": "stream",
     "text": [
      "26.26002315058403\n"
     ]
    },
    {
     "data": {
      "application/javascript": [
       "parent.postMessage({\"jupyterEvent\": \"custom.exercise_interaction\", \"data\": {\"outcomeType\": 1, \"valueTowardsCompletion\": 0.16666666666666666, \"interactionType\": 1, \"questionType\": 1, \"questionId\": \"2_PercentMissingValues\", \"learnToolsVersion\": \"0.3.4\", \"failureMessage\": \"\", \"exceptionClass\": \"\", \"trace\": \"\"}}, \"*\")"
      ],
      "text/plain": [
       "<IPython.core.display.Javascript object>"
      ]
     },
     "metadata": {},
     "output_type": "display_data"
    },
    {
     "data": {
      "text/markdown": [
       "<span style=\"color:#33cc33\">Correct</span>"
      ],
      "text/plain": [
       "Correct"
      ]
     },
     "metadata": {},
     "output_type": "display_data"
    }
   ],
   "source": [
    "# TODO: Your code here!\n",
    "missing_values_count =sf_permits.isnull().sum()\n",
    "total_cells=np.product(sf_permits.shape)\n",
    "total_missing=missing_values_count.sum()\n",
    "percent_missing =(total_missing/total_cells)*100\n",
    "print(percent_missing)\n",
    "# Check your answer\n",
    "q2.check()"
   ]
  },
  {
   "cell_type": "code",
   "execution_count": 7,
   "id": "e4e89557",
   "metadata": {
    "execution": {
     "iopub.execute_input": "2022-01-27T18:26:55.039927Z",
     "iopub.status.busy": "2022-01-27T18:26:55.039130Z",
     "iopub.status.idle": "2022-01-27T18:26:55.041147Z",
     "shell.execute_reply": "2022-01-27T18:26:55.041556Z",
     "shell.execute_reply.started": "2022-01-25T16:05:39.166764Z"
    },
    "papermill": {
     "duration": 0.02588,
     "end_time": "2022-01-27T18:26:55.041684",
     "exception": false,
     "start_time": "2022-01-27T18:26:55.015804",
     "status": "completed"
    },
    "tags": []
   },
   "outputs": [],
   "source": [
    "# Lines below will give you a hint or solution code\n",
    "#q2.hint()\n",
    "#q2.solution()"
   ]
  },
  {
   "cell_type": "markdown",
   "id": "23fb2739",
   "metadata": {
    "papermill": {
     "duration": 0.019536,
     "end_time": "2022-01-27T18:26:55.081169",
     "exception": false,
     "start_time": "2022-01-27T18:26:55.061633",
     "status": "completed"
    },
    "tags": []
   },
   "source": [
    "# 3) Figure out why the data is missing\n",
    "\n",
    "Look at the columns **\"Street Number Suffix\"** and **\"Zipcode\"** from the [San Francisco Building Permits dataset](https://www.kaggle.com/aparnashastry/building-permit-applications-data). Both of these contain missing values. \n",
    "- Which, if either, are missing because they don't exist? \n",
    "- Which, if either, are missing because they weren't recorded?  \n",
    "\n",
    "Once you have an answer, run the code cell below."
   ]
  },
  {
   "cell_type": "code",
   "execution_count": 8,
   "id": "26b6c6c0",
   "metadata": {
    "execution": {
     "iopub.execute_input": "2022-01-27T18:26:55.126188Z",
     "iopub.status.busy": "2022-01-27T18:26:55.125341Z",
     "iopub.status.idle": "2022-01-27T18:26:55.130569Z",
     "shell.execute_reply": "2022-01-27T18:26:55.130127Z",
     "shell.execute_reply.started": "2022-01-25T16:22:12.953823Z"
    },
    "papermill": {
     "duration": 0.029677,
     "end_time": "2022-01-27T18:26:55.130677",
     "exception": false,
     "start_time": "2022-01-27T18:26:55.101000",
     "status": "completed"
    },
    "tags": []
   },
   "outputs": [
    {
     "data": {
      "application/javascript": [
       "parent.postMessage({\"jupyterEvent\": \"custom.exercise_interaction\", \"data\": {\"outcomeType\": 1, \"valueTowardsCompletion\": 0.16666666666666666, \"interactionType\": 1, \"questionType\": 4, \"questionId\": \"3_WhyDataMissing\", \"learnToolsVersion\": \"0.3.4\", \"failureMessage\": \"\", \"exceptionClass\": \"\", \"trace\": \"\"}}, \"*\")"
      ],
      "text/plain": [
       "<IPython.core.display.Javascript object>"
      ]
     },
     "metadata": {},
     "output_type": "display_data"
    },
    {
     "data": {
      "text/markdown": [
       "<span style=\"color:#33cc33\">Correct:</span> \n",
       "\n",
       "If a value in the \"Street Number Suffix\" column is missing, it is likely because it does not exist. If a value in the \"Zipcode\" column is missing, it was not recorded."
      ],
      "text/plain": [
       "Correct: \n",
       "\n",
       "If a value in the \"Street Number Suffix\" column is missing, it is likely because it does not exist. If a value in the \"Zipcode\" column is missing, it was not recorded."
      ]
     },
     "metadata": {},
     "output_type": "display_data"
    }
   ],
   "source": [
    "# Check your answer (Run this code cell to receive credit!)\n",
    "missing_values_count[0:10]\n",
    "q3.check()"
   ]
  },
  {
   "cell_type": "code",
   "execution_count": 9,
   "id": "58335934",
   "metadata": {
    "execution": {
     "iopub.execute_input": "2022-01-27T18:26:55.175995Z",
     "iopub.status.busy": "2022-01-27T18:26:55.175224Z",
     "iopub.status.idle": "2022-01-27T18:26:55.177132Z",
     "shell.execute_reply": "2022-01-27T18:26:55.177506Z",
     "shell.execute_reply.started": "2022-01-25T16:22:25.801364Z"
    },
    "papermill": {
     "duration": 0.026202,
     "end_time": "2022-01-27T18:26:55.177635",
     "exception": false,
     "start_time": "2022-01-27T18:26:55.151433",
     "status": "completed"
    },
    "tags": []
   },
   "outputs": [],
   "source": [
    "# Line below will give you a hint\n",
    "#q3.hint()"
   ]
  },
  {
   "cell_type": "markdown",
   "id": "9f966ad7",
   "metadata": {
    "papermill": {
     "duration": 0.020324,
     "end_time": "2022-01-27T18:26:55.218470",
     "exception": false,
     "start_time": "2022-01-27T18:26:55.198146",
     "status": "completed"
    },
    "tags": []
   },
   "source": [
    "# 4) Drop missing values: rows\n",
    "\n",
    "If you removed all of the rows of `sf_permits` with missing values, how many rows are left?\n",
    "\n",
    "**Note**: Do not change the value of `sf_permits` when checking this.  "
   ]
  },
  {
   "cell_type": "code",
   "execution_count": 10,
   "id": "0d4763eb",
   "metadata": {
    "execution": {
     "iopub.execute_input": "2022-01-27T18:26:55.264026Z",
     "iopub.status.busy": "2022-01-27T18:26:55.263513Z",
     "iopub.status.idle": "2022-01-27T18:26:55.694207Z",
     "shell.execute_reply": "2022-01-27T18:26:55.694643Z",
     "shell.execute_reply.started": "2022-01-25T16:23:12.27345Z"
    },
    "papermill": {
     "duration": 0.455687,
     "end_time": "2022-01-27T18:26:55.694795",
     "exception": false,
     "start_time": "2022-01-27T18:26:55.239108",
     "status": "completed"
    },
    "tags": []
   },
   "outputs": [
    {
     "data": {
      "text/html": [
       "<div>\n",
       "<style scoped>\n",
       "    .dataframe tbody tr th:only-of-type {\n",
       "        vertical-align: middle;\n",
       "    }\n",
       "\n",
       "    .dataframe tbody tr th {\n",
       "        vertical-align: top;\n",
       "    }\n",
       "\n",
       "    .dataframe thead th {\n",
       "        text-align: right;\n",
       "    }\n",
       "</style>\n",
       "<table border=\"1\" class=\"dataframe\">\n",
       "  <thead>\n",
       "    <tr style=\"text-align: right;\">\n",
       "      <th></th>\n",
       "      <th>Permit Number</th>\n",
       "      <th>Permit Type</th>\n",
       "      <th>Permit Type Definition</th>\n",
       "      <th>Permit Creation Date</th>\n",
       "      <th>Block</th>\n",
       "      <th>Lot</th>\n",
       "      <th>Street Number</th>\n",
       "      <th>Street Number Suffix</th>\n",
       "      <th>Street Name</th>\n",
       "      <th>Street Suffix</th>\n",
       "      <th>...</th>\n",
       "      <th>Existing Construction Type</th>\n",
       "      <th>Existing Construction Type Description</th>\n",
       "      <th>Proposed Construction Type</th>\n",
       "      <th>Proposed Construction Type Description</th>\n",
       "      <th>Site Permit</th>\n",
       "      <th>Supervisor District</th>\n",
       "      <th>Neighborhoods - Analysis Boundaries</th>\n",
       "      <th>Zipcode</th>\n",
       "      <th>Location</th>\n",
       "      <th>Record ID</th>\n",
       "    </tr>\n",
       "  </thead>\n",
       "  <tbody>\n",
       "  </tbody>\n",
       "</table>\n",
       "<p>0 rows × 43 columns</p>\n",
       "</div>"
      ],
      "text/plain": [
       "Empty DataFrame\n",
       "Columns: [Permit Number, Permit Type, Permit Type Definition, Permit Creation Date, Block, Lot, Street Number, Street Number Suffix, Street Name, Street Suffix, Unit, Unit Suffix, Description, Current Status, Current Status Date, Filed Date, Issued Date, Completed Date, First Construction Document Date, Structural Notification, Number of Existing Stories, Number of Proposed Stories, Voluntary Soft-Story Retrofit, Fire Only Permit, Permit Expiration Date, Estimated Cost, Revised Cost, Existing Use, Existing Units, Proposed Use, Proposed Units, Plansets, TIDF Compliance, Existing Construction Type, Existing Construction Type Description, Proposed Construction Type, Proposed Construction Type Description, Site Permit, Supervisor District, Neighborhoods - Analysis Boundaries, Zipcode, Location, Record ID]\n",
       "Index: []\n",
       "\n",
       "[0 rows x 43 columns]"
      ]
     },
     "execution_count": 10,
     "metadata": {},
     "output_type": "execute_result"
    }
   ],
   "source": [
    "# TODO: Your code here!\n",
    "sf_permits.dropna()"
   ]
  },
  {
   "cell_type": "markdown",
   "id": "12b8427d",
   "metadata": {
    "papermill": {
     "duration": 0.020873,
     "end_time": "2022-01-27T18:26:55.736903",
     "exception": false,
     "start_time": "2022-01-27T18:26:55.716030",
     "status": "completed"
    },
    "tags": []
   },
   "source": [
    "Once you have an answer, run the code cell below."
   ]
  },
  {
   "cell_type": "code",
   "execution_count": 11,
   "id": "27c6a82e",
   "metadata": {
    "execution": {
     "iopub.execute_input": "2022-01-27T18:26:55.783717Z",
     "iopub.status.busy": "2022-01-27T18:26:55.783214Z",
     "iopub.status.idle": "2022-01-27T18:26:55.789514Z",
     "shell.execute_reply": "2022-01-27T18:26:55.789883Z",
     "shell.execute_reply.started": "2022-01-25T16:23:15.504414Z"
    },
    "papermill": {
     "duration": 0.03211,
     "end_time": "2022-01-27T18:26:55.790016",
     "exception": false,
     "start_time": "2022-01-27T18:26:55.757906",
     "status": "completed"
    },
    "tags": []
   },
   "outputs": [
    {
     "data": {
      "application/javascript": [
       "parent.postMessage({\"jupyterEvent\": \"custom.exercise_interaction\", \"data\": {\"outcomeType\": 1, \"valueTowardsCompletion\": 0.16666666666666666, \"interactionType\": 1, \"questionType\": 4, \"questionId\": \"4_DropMissingRows\", \"learnToolsVersion\": \"0.3.4\", \"failureMessage\": \"\", \"exceptionClass\": \"\", \"trace\": \"\"}}, \"*\")"
      ],
      "text/plain": [
       "<IPython.core.display.Javascript object>"
      ]
     },
     "metadata": {},
     "output_type": "display_data"
    },
    {
     "data": {
      "text/markdown": [
       "<span style=\"color:#33cc33\">Correct:</span> \n",
       "\n",
       "There are no rows remaining in the dataset!"
      ],
      "text/plain": [
       "Correct: \n",
       "\n",
       "There are no rows remaining in the dataset!"
      ]
     },
     "metadata": {},
     "output_type": "display_data"
    }
   ],
   "source": [
    "# Check your answer (Run this code cell to receive credit!)\n",
    "q4.check()"
   ]
  },
  {
   "cell_type": "code",
   "execution_count": 12,
   "id": "c0cc9e60",
   "metadata": {
    "execution": {
     "iopub.execute_input": "2022-01-27T18:26:55.838444Z",
     "iopub.status.busy": "2022-01-27T18:26:55.837527Z",
     "iopub.status.idle": "2022-01-27T18:26:55.839201Z",
     "shell.execute_reply": "2022-01-27T18:26:55.839701Z",
     "shell.execute_reply.started": "2022-01-25T16:23:21.433745Z"
    },
    "papermill": {
     "duration": 0.02782,
     "end_time": "2022-01-27T18:26:55.839825",
     "exception": false,
     "start_time": "2022-01-27T18:26:55.812005",
     "status": "completed"
    },
    "tags": []
   },
   "outputs": [],
   "source": [
    "# Line below will give you a hint\n",
    "#q4.hint()"
   ]
  },
  {
   "cell_type": "markdown",
   "id": "0861c2ca",
   "metadata": {
    "papermill": {
     "duration": 0.021765,
     "end_time": "2022-01-27T18:26:55.883214",
     "exception": false,
     "start_time": "2022-01-27T18:26:55.861449",
     "status": "completed"
    },
    "tags": []
   },
   "source": [
    "# 5) Drop missing values: columns\n",
    "\n",
    "Now try removing all the columns with empty values.  \n",
    "- Create a new DataFrame called `sf_permits_with_na_dropped` that has all of the columns with empty values removed.  \n",
    "- How many columns were removed from the original `sf_permits` DataFrame? Use this number to set the value of the `dropped_columns` variable below."
   ]
  },
  {
   "cell_type": "code",
   "execution_count": 13,
   "id": "22445d92",
   "metadata": {
    "execution": {
     "iopub.execute_input": "2022-01-27T18:26:55.931802Z",
     "iopub.status.busy": "2022-01-27T18:26:55.931286Z",
     "iopub.status.idle": "2022-01-27T18:26:56.360843Z",
     "shell.execute_reply": "2022-01-27T18:26:56.361304Z",
     "shell.execute_reply.started": "2022-01-25T16:35:06.476056Z"
    },
    "papermill": {
     "duration": 0.456552,
     "end_time": "2022-01-27T18:26:56.361449",
     "exception": false,
     "start_time": "2022-01-27T18:26:55.904897",
     "status": "completed"
    },
    "tags": []
   },
   "outputs": [
    {
     "data": {
      "application/javascript": [
       "parent.postMessage({\"jupyterEvent\": \"custom.exercise_interaction\", \"data\": {\"outcomeType\": 1, \"valueTowardsCompletion\": 0.16666666666666666, \"interactionType\": 1, \"questionType\": 1, \"questionId\": \"5_DropMissingCols\", \"learnToolsVersion\": \"0.3.4\", \"failureMessage\": \"\", \"exceptionClass\": \"\", \"trace\": \"\"}}, \"*\")"
      ],
      "text/plain": [
       "<IPython.core.display.Javascript object>"
      ]
     },
     "metadata": {},
     "output_type": "display_data"
    },
    {
     "data": {
      "text/markdown": [
       "<span style=\"color:#33cc33\">Correct</span>"
      ],
      "text/plain": [
       "Correct"
      ]
     },
     "metadata": {},
     "output_type": "display_data"
    }
   ],
   "source": [
    "# TODO: Your code here\n",
    "sf_permits_with_na_dropped = sf_permits.dropna(axis=1)\n",
    "columns_in_orginal_dataset=sf_permits.shape[1]\n",
    "columns_in_na_dropped=sf_permits_with_na_dropped.shape[1]\n",
    "dropped_columns = columns_in_orginal_dataset - columns_in_na_dropped\n",
    "# Check your answer\n",
    "q5.check()"
   ]
  },
  {
   "cell_type": "code",
   "execution_count": 14,
   "id": "78a377ee",
   "metadata": {
    "execution": {
     "iopub.execute_input": "2022-01-27T18:26:56.411431Z",
     "iopub.status.busy": "2022-01-27T18:26:56.410582Z",
     "iopub.status.idle": "2022-01-27T18:26:56.413324Z",
     "shell.execute_reply": "2022-01-27T18:26:56.412887Z",
     "shell.execute_reply.started": "2022-01-25T16:35:17.530237Z"
    },
    "papermill": {
     "duration": 0.02898,
     "end_time": "2022-01-27T18:26:56.413438",
     "exception": false,
     "start_time": "2022-01-27T18:26:56.384458",
     "status": "completed"
    },
    "tags": []
   },
   "outputs": [],
   "source": [
    "# Lines below will give you a hint or solution code\n",
    "#q5.hint()\n",
    "#q5.solution()"
   ]
  },
  {
   "cell_type": "markdown",
   "id": "06d314c8",
   "metadata": {
    "papermill": {
     "duration": 0.022479,
     "end_time": "2022-01-27T18:26:56.458413",
     "exception": false,
     "start_time": "2022-01-27T18:26:56.435934",
     "status": "completed"
    },
    "tags": []
   },
   "source": [
    "# 6) Fill in missing values automatically\n",
    "\n",
    "Try replacing all the NaN's in the `sf_permits` data with the one that comes directly after it and then replacing any remaining NaN's with 0.  Set the result to a new DataFrame `sf_permits_with_na_imputed`."
   ]
  },
  {
   "cell_type": "code",
   "execution_count": 15,
   "id": "f5abc691",
   "metadata": {
    "execution": {
     "iopub.execute_input": "2022-01-27T18:26:56.526242Z",
     "iopub.status.busy": "2022-01-27T18:26:56.522342Z",
     "iopub.status.idle": "2022-01-27T18:26:58.084167Z",
     "shell.execute_reply": "2022-01-27T18:26:58.083682Z",
     "shell.execute_reply.started": "2022-01-25T16:37:18.993221Z"
    },
    "papermill": {
     "duration": 1.603187,
     "end_time": "2022-01-27T18:26:58.084304",
     "exception": false,
     "start_time": "2022-01-27T18:26:56.481117",
     "status": "completed"
    },
    "tags": []
   },
   "outputs": [
    {
     "data": {
      "application/javascript": [
       "parent.postMessage({\"jupyterEvent\": \"custom.exercise_interaction\", \"data\": {\"outcomeType\": 1, \"valueTowardsCompletion\": 0.16666666666666666, \"interactionType\": 1, \"questionType\": 1, \"questionId\": \"6_ImputeAutomatically\", \"learnToolsVersion\": \"0.3.4\", \"failureMessage\": \"\", \"exceptionClass\": \"\", \"trace\": \"\"}}, \"*\")"
      ],
      "text/plain": [
       "<IPython.core.display.Javascript object>"
      ]
     },
     "metadata": {},
     "output_type": "display_data"
    },
    {
     "data": {
      "text/markdown": [
       "<span style=\"color:#33cc33\">Correct</span>"
      ],
      "text/plain": [
       "Correct"
      ]
     },
     "metadata": {},
     "output_type": "display_data"
    }
   ],
   "source": [
    "# TODO: Your code here\n",
    "sf_permits_with_na_imputed = sf_permits.fillna(method='bfill',axis=0).fillna(0)\n",
    "\n",
    "# Check your answer\n",
    "q6.check()"
   ]
  },
  {
   "cell_type": "code",
   "execution_count": 16,
   "id": "bfde0c88",
   "metadata": {
    "execution": {
     "iopub.execute_input": "2022-01-27T18:26:58.136612Z",
     "iopub.status.busy": "2022-01-27T18:26:58.134942Z",
     "iopub.status.idle": "2022-01-27T18:26:58.137288Z",
     "shell.execute_reply": "2022-01-27T18:26:58.137691Z",
     "shell.execute_reply.started": "2022-01-25T16:37:28.97122Z"
    },
    "papermill": {
     "duration": 0.029789,
     "end_time": "2022-01-27T18:26:58.137820",
     "exception": false,
     "start_time": "2022-01-27T18:26:58.108031",
     "status": "completed"
    },
    "tags": []
   },
   "outputs": [],
   "source": [
    "# Lines below will give you a hint or solution code\n",
    "#q6.hint()\n",
    "#q6.solution()"
   ]
  },
  {
   "cell_type": "markdown",
   "id": "69e2c9e2",
   "metadata": {
    "papermill": {
     "duration": 0.023212,
     "end_time": "2022-01-27T18:26:58.184564",
     "exception": false,
     "start_time": "2022-01-27T18:26:58.161352",
     "status": "completed"
    },
    "tags": []
   },
   "source": [
    "# More practice\n",
    "\n",
    "If you're looking for more practice handling missing values:\n",
    "\n",
    "* Check out [this noteboook](https://www.kaggle.com/alexisbcook/missing-values) on handling missing values using scikit-learn's imputer. \n",
    "* Look back at the \"Zipcode\" column in the `sf_permits` dataset, which has some missing values. How would you go about figuring out what the actual zipcode of each address should be? (You might try using another dataset. You can search for datasets about San Fransisco on the [Datasets listing](https://www.kaggle.com/datasets).) \n",
    "\n",
    "# Keep going\n",
    "\n",
    "In the next lesson, learn how to [**apply scaling and normalization**](https://www.kaggle.com/alexisbcook/scaling-and-normalization) to transform your data."
   ]
  },
  {
   "cell_type": "markdown",
   "id": "5d115de2",
   "metadata": {
    "papermill": {
     "duration": 0.023149,
     "end_time": "2022-01-27T18:26:58.231371",
     "exception": false,
     "start_time": "2022-01-27T18:26:58.208222",
     "status": "completed"
    },
    "tags": []
   },
   "source": [
    "---\n",
    "\n",
    "\n",
    "\n",
    "\n",
    "*Have questions or comments? Visit the [course discussion forum](https://www.kaggle.com/learn/data-cleaning/discussion) to chat with other learners.*"
   ]
  },
  {
   "cell_type": "code",
   "execution_count": null,
   "id": "a12e3f26",
   "metadata": {
    "papermill": {
     "duration": 0.023168,
     "end_time": "2022-01-27T18:26:58.277853",
     "exception": false,
     "start_time": "2022-01-27T18:26:58.254685",
     "status": "completed"
    },
    "tags": []
   },
   "outputs": [],
   "source": []
  }
 ],
 "metadata": {
  "kernelspec": {
   "display_name": "Python 3",
   "language": "python",
   "name": "python3"
  },
  "language_info": {
   "codemirror_mode": {
    "name": "ipython",
    "version": 3
   },
   "file_extension": ".py",
   "mimetype": "text/x-python",
   "name": "python",
   "nbconvert_exporter": "python",
   "pygments_lexer": "ipython3",
   "version": "3.7.12"
  },
  "papermill": {
   "default_parameters": {},
   "duration": 19.112442,
   "end_time": "2022-01-27T18:26:58.910151",
   "environment_variables": {},
   "exception": null,
   "input_path": "__notebook__.ipynb",
   "output_path": "__notebook__.ipynb",
   "parameters": {},
   "start_time": "2022-01-27T18:26:39.797709",
   "version": "2.3.3"
  }
 },
 "nbformat": 4,
 "nbformat_minor": 5
}
