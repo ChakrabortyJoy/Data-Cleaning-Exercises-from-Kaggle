{
 "cells": [
  {
   "cell_type": "markdown",
   "id": "1fa25d8f",
   "metadata": {
    "papermill": {
     "duration": 0.022448,
     "end_time": "2022-01-27T18:42:33.291282",
     "exception": false,
     "start_time": "2022-01-27T18:42:33.268834",
     "status": "completed"
    },
    "tags": []
   },
   "source": [
    "**This notebook is an exercise in the [Data Cleaning](https://www.kaggle.com/learn/data-cleaning) course.  You can reference the tutorial at [this link](https://www.kaggle.com/alexisbcook/inconsistent-data-entry).**\n",
    "\n",
    "---\n"
   ]
  },
  {
   "cell_type": "markdown",
   "id": "8fb15d74",
   "metadata": {
    "papermill": {
     "duration": 0.024618,
     "end_time": "2022-01-27T18:42:33.337720",
     "exception": false,
     "start_time": "2022-01-27T18:42:33.313102",
     "status": "completed"
    },
    "tags": []
   },
   "source": [
    "In this exercise, you'll apply what you learned in the **Inconsistent data entry** tutorial.\n",
    "\n",
    "# Setup\n",
    "\n",
    "The questions below will give you feedback on your work. Run the following cell to set up the feedback system."
   ]
  },
  {
   "cell_type": "code",
   "execution_count": 1,
   "id": "788c262f",
   "metadata": {
    "execution": {
     "iopub.execute_input": "2022-01-27T18:42:33.384597Z",
     "iopub.status.busy": "2022-01-27T18:42:33.383835Z",
     "iopub.status.idle": "2022-01-27T18:42:33.461639Z",
     "shell.execute_reply": "2022-01-27T18:42:33.461043Z",
     "shell.execute_reply.started": "2022-01-26T18:12:00.09373Z"
    },
    "papermill": {
     "duration": 0.104519,
     "end_time": "2022-01-27T18:42:33.461784",
     "exception": false,
     "start_time": "2022-01-27T18:42:33.357265",
     "status": "completed"
    },
    "tags": []
   },
   "outputs": [
    {
     "name": "stdout",
     "output_type": "stream",
     "text": [
      "Setup Complete\n"
     ]
    }
   ],
   "source": [
    "from learntools.core import binder\n",
    "binder.bind(globals())\n",
    "from learntools.data_cleaning.ex5 import *\n",
    "print(\"Setup Complete\")"
   ]
  },
  {
   "cell_type": "markdown",
   "id": "52f8edb2",
   "metadata": {
    "papermill": {
     "duration": 0.012363,
     "end_time": "2022-01-27T18:42:33.487125",
     "exception": false,
     "start_time": "2022-01-27T18:42:33.474762",
     "status": "completed"
    },
    "tags": []
   },
   "source": [
    "# Get our environment set up\n",
    "\n",
    "The first thing we'll need to do is load in the libraries and dataset we'll be using.  We use the same dataset from the tutorial."
   ]
  },
  {
   "cell_type": "code",
   "execution_count": 2,
   "id": "4cd0f61d",
   "metadata": {
    "execution": {
     "iopub.execute_input": "2022-01-27T18:42:33.517292Z",
     "iopub.status.busy": "2022-01-27T18:42:33.516463Z",
     "iopub.status.idle": "2022-01-27T18:42:33.527584Z",
     "shell.execute_reply": "2022-01-27T18:42:33.527004Z",
     "shell.execute_reply.started": "2022-01-26T18:12:05.652542Z"
    },
    "papermill": {
     "duration": 0.027819,
     "end_time": "2022-01-27T18:42:33.527713",
     "exception": false,
     "start_time": "2022-01-27T18:42:33.499894",
     "status": "completed"
    },
    "tags": []
   },
   "outputs": [],
   "source": [
    "# modules we'll use\n",
    "import pandas as pd\n",
    "import numpy as np\n",
    "\n",
    "# helpful modules\n",
    "import fuzzywuzzy\n",
    "from fuzzywuzzy import process\n",
    "import chardet\n",
    "\n",
    "# read in all our data\n",
    "professors = pd.read_csv(\"../input/pakistan-intellectual-capital/pakistan_intellectual_capital.csv\")\n",
    "\n",
    "# set seed for reproducibility\n",
    "np.random.seed(0)"
   ]
  },
  {
   "cell_type": "markdown",
   "id": "5c114e7c",
   "metadata": {
    "papermill": {
     "duration": 0.013138,
     "end_time": "2022-01-27T18:42:33.554717",
     "exception": false,
     "start_time": "2022-01-27T18:42:33.541579",
     "status": "completed"
    },
    "tags": []
   },
   "source": [
    "Next, we'll redo all of the work that we did in the tutorial."
   ]
  },
  {
   "cell_type": "code",
   "execution_count": 3,
   "id": "51ba7375",
   "metadata": {
    "execution": {
     "iopub.execute_input": "2022-01-27T18:42:33.593724Z",
     "iopub.status.busy": "2022-01-27T18:42:33.592683Z",
     "iopub.status.idle": "2022-01-27T18:42:33.596234Z",
     "shell.execute_reply": "2022-01-27T18:42:33.596852Z",
     "shell.execute_reply.started": "2022-01-26T18:12:14.77705Z"
    },
    "papermill": {
     "duration": 0.029657,
     "end_time": "2022-01-27T18:42:33.597044",
     "exception": false,
     "start_time": "2022-01-27T18:42:33.567387",
     "status": "completed"
    },
    "tags": []
   },
   "outputs": [
    {
     "name": "stdout",
     "output_type": "stream",
     "text": [
      "All done!\n"
     ]
    }
   ],
   "source": [
    "# convert to lower case\n",
    "professors['Country'] = professors['Country'].str.lower()\n",
    "# remove trailing white spaces\n",
    "professors['Country'] = professors['Country'].str.strip()\n",
    "\n",
    "# get the top 10 closest matches to \"south korea\"\n",
    "countries = professors['Country'].unique()\n",
    "matches = fuzzywuzzy.process.extract(\"south korea\", countries, limit=10, scorer=fuzzywuzzy.fuzz.token_sort_ratio)\n",
    "\n",
    "def replace_matches_in_column(df, column, string_to_match, min_ratio = 47):\n",
    "    # get a list of unique strings\n",
    "    strings = df[column].unique()\n",
    "    \n",
    "    # get the top 10 closest matches to our input string\n",
    "    matches = fuzzywuzzy.process.extract(string_to_match, strings, \n",
    "                                         limit=10, scorer=fuzzywuzzy.fuzz.token_sort_ratio)\n",
    "\n",
    "    # only get matches with a ratio > 90\n",
    "    close_matches = [matches[0] for matches in matches if matches[1] >= min_ratio]\n",
    "\n",
    "    # get the rows of all the close matches in our dataframe\n",
    "    rows_with_matches = df[column].isin(close_matches)\n",
    "\n",
    "    # replace all rows with close matches with the input matches \n",
    "    df.loc[rows_with_matches, column] = string_to_match\n",
    "    \n",
    "    # let us know the function's done\n",
    "    print(\"All done!\")\n",
    "    \n",
    "replace_matches_in_column(df=professors, column='Country', string_to_match=\"south korea\")\n",
    "countries = professors['Country'].unique()"
   ]
  },
  {
   "cell_type": "markdown",
   "id": "faa3bc76",
   "metadata": {
    "papermill": {
     "duration": 0.01276,
     "end_time": "2022-01-27T18:42:33.623940",
     "exception": false,
     "start_time": "2022-01-27T18:42:33.611180",
     "status": "completed"
    },
    "tags": []
   },
   "source": [
    "# 1) Examine another column\n",
    "\n",
    "Write code below to take a look at all the unique values in the \"Graduated from\" column."
   ]
  },
  {
   "cell_type": "code",
   "execution_count": 4,
   "id": "5d7d455c",
   "metadata": {
    "execution": {
     "iopub.execute_input": "2022-01-27T18:42:33.652939Z",
     "iopub.status.busy": "2022-01-27T18:42:33.652154Z",
     "iopub.status.idle": "2022-01-27T18:42:33.656550Z",
     "shell.execute_reply": "2022-01-27T18:42:33.656085Z",
     "shell.execute_reply.started": "2022-01-26T18:12:53.560809Z"
    },
    "papermill": {
     "duration": 0.019812,
     "end_time": "2022-01-27T18:42:33.656668",
     "exception": false,
     "start_time": "2022-01-27T18:42:33.636856",
     "status": "completed"
    },
    "tags": []
   },
   "outputs": [],
   "source": [
    "# TODO: Your code here\n",
    "unis = professors['Graduated from'].unique()"
   ]
  },
  {
   "cell_type": "markdown",
   "id": "6d40679f",
   "metadata": {
    "papermill": {
     "duration": 0.01292,
     "end_time": "2022-01-27T18:42:33.682896",
     "exception": false,
     "start_time": "2022-01-27T18:42:33.669976",
     "status": "completed"
    },
    "tags": []
   },
   "source": [
    "Do you notice any inconsistencies in the data?  Can any of the inconsistencies in the data be fixed by removing white spaces at the beginning and end of cells?\n",
    "\n",
    "Once you have answered these questions, run the code cell below to get credit for your work."
   ]
  },
  {
   "cell_type": "code",
   "execution_count": 5,
   "id": "cffe3f13",
   "metadata": {
    "execution": {
     "iopub.execute_input": "2022-01-27T18:42:33.715315Z",
     "iopub.status.busy": "2022-01-27T18:42:33.714562Z",
     "iopub.status.idle": "2022-01-27T18:42:33.718960Z",
     "shell.execute_reply": "2022-01-27T18:42:33.719471Z",
     "shell.execute_reply.started": "2022-01-26T18:12:57.997858Z"
    },
    "papermill": {
     "duration": 0.023649,
     "end_time": "2022-01-27T18:42:33.719598",
     "exception": false,
     "start_time": "2022-01-27T18:42:33.695949",
     "status": "completed"
    },
    "tags": []
   },
   "outputs": [
    {
     "data": {
      "application/javascript": [
       "parent.postMessage({\"jupyterEvent\": \"custom.exercise_interaction\", \"data\": {\"outcomeType\": 1, \"valueTowardsCompletion\": 0.3333333333333333, \"interactionType\": 1, \"questionType\": 4, \"questionId\": \"1_ExamineProvince\", \"learnToolsVersion\": \"0.3.4\", \"failureMessage\": \"\", \"exceptionClass\": \"\", \"trace\": \"\"}}, \"*\")"
      ],
      "text/plain": [
       "<IPython.core.display.Javascript object>"
      ]
     },
     "metadata": {},
     "output_type": "display_data"
    },
    {
     "data": {
      "text/markdown": [
       "<span style=\"color:#33cc33\">Correct:</span> \n",
       "\n",
       "There are inconsistencies that can be fixed by removing white spaces at the beginning and end of cells.  For instance, \"University of Central Florida\" and \" University of Central Florida\" both appear in the column."
      ],
      "text/plain": [
       "Correct: \n",
       "\n",
       "There are inconsistencies that can be fixed by removing white spaces at the beginning and end of cells.  For instance, \"University of Central Florida\" and \" University of Central Florida\" both appear in the column."
      ]
     },
     "metadata": {},
     "output_type": "display_data"
    }
   ],
   "source": [
    "# Check your answer (Run this code cell to receive credit!)\n",
    "q1.check()"
   ]
  },
  {
   "cell_type": "code",
   "execution_count": 6,
   "id": "08c76f1a",
   "metadata": {
    "execution": {
     "iopub.execute_input": "2022-01-27T18:42:33.751189Z",
     "iopub.status.busy": "2022-01-27T18:42:33.750426Z",
     "iopub.status.idle": "2022-01-27T18:42:33.752406Z",
     "shell.execute_reply": "2022-01-27T18:42:33.752813Z",
     "shell.execute_reply.started": "2022-01-26T18:13:04.187602Z"
    },
    "papermill": {
     "duration": 0.019291,
     "end_time": "2022-01-27T18:42:33.752943",
     "exception": false,
     "start_time": "2022-01-27T18:42:33.733652",
     "status": "completed"
    },
    "tags": []
   },
   "outputs": [],
   "source": [
    "# Line below will give you a hint\n",
    "#q1.hint()"
   ]
  },
  {
   "cell_type": "markdown",
   "id": "102d2b77",
   "metadata": {
    "papermill": {
     "duration": 0.013495,
     "end_time": "2022-01-27T18:42:33.780236",
     "exception": false,
     "start_time": "2022-01-27T18:42:33.766741",
     "status": "completed"
    },
    "tags": []
   },
   "source": [
    "# 2) Do some text pre-processing\n",
    "\n",
    "Convert every entry in the \"Graduated from\" column in the `professors` DataFrame to remove white spaces at the beginning and end of cells."
   ]
  },
  {
   "cell_type": "code",
   "execution_count": 7,
   "id": "038df514",
   "metadata": {
    "execution": {
     "iopub.execute_input": "2022-01-27T18:42:33.810958Z",
     "iopub.status.busy": "2022-01-27T18:42:33.810120Z",
     "iopub.status.idle": "2022-01-27T18:42:33.820660Z",
     "shell.execute_reply": "2022-01-27T18:42:33.820220Z",
     "shell.execute_reply.started": "2022-01-26T18:31:37.820561Z"
    },
    "papermill": {
     "duration": 0.026621,
     "end_time": "2022-01-27T18:42:33.820774",
     "exception": false,
     "start_time": "2022-01-27T18:42:33.794153",
     "status": "completed"
    },
    "tags": []
   },
   "outputs": [
    {
     "data": {
      "application/javascript": [
       "parent.postMessage({\"jupyterEvent\": \"custom.exercise_interaction\", \"data\": {\"outcomeType\": 1, \"valueTowardsCompletion\": 0.3333333333333333, \"interactionType\": 1, \"questionType\": 1, \"questionId\": \"2_TextProcessing\", \"learnToolsVersion\": \"0.3.4\", \"failureMessage\": \"\", \"exceptionClass\": \"\", \"trace\": \"\"}}, \"*\")"
      ],
      "text/plain": [
       "<IPython.core.display.Javascript object>"
      ]
     },
     "metadata": {},
     "output_type": "display_data"
    },
    {
     "data": {
      "text/markdown": [
       "<span style=\"color:#33cc33\">Correct</span>"
      ],
      "text/plain": [
       "Correct"
      ]
     },
     "metadata": {},
     "output_type": "display_data"
    }
   ],
   "source": [
    "# TODO: Your code here\n",
    "professors['Graduated from']=professors['Graduated from'].str.strip()\n",
    "\n",
    "# Check your answer\n",
    "q2.check()"
   ]
  },
  {
   "cell_type": "code",
   "execution_count": 8,
   "id": "9810d648",
   "metadata": {
    "execution": {
     "iopub.execute_input": "2022-01-27T18:42:33.859075Z",
     "iopub.status.busy": "2022-01-27T18:42:33.853086Z",
     "iopub.status.idle": "2022-01-27T18:42:33.861072Z",
     "shell.execute_reply": "2022-01-27T18:42:33.861556Z",
     "shell.execute_reply.started": "2022-01-26T18:31:42.278878Z"
    },
    "papermill": {
     "duration": 0.026044,
     "end_time": "2022-01-27T18:42:33.861683",
     "exception": false,
     "start_time": "2022-01-27T18:42:33.835639",
     "status": "completed"
    },
    "tags": []
   },
   "outputs": [],
   "source": [
    "# Lines below will give you a hint or solution code\n",
    "#q2.hint()\n",
    "#q2.solution()"
   ]
  },
  {
   "cell_type": "markdown",
   "id": "3a4631f6",
   "metadata": {
    "papermill": {
     "duration": 0.015671,
     "end_time": "2022-01-27T18:42:33.893226",
     "exception": false,
     "start_time": "2022-01-27T18:42:33.877555",
     "status": "completed"
    },
    "tags": []
   },
   "source": [
    "# 3) Continue working with countries\n",
    "\n",
    "In the tutorial, we focused on cleaning up inconsistencies in the \"Country\" column.  Run the code cell below to view the list of unique values that we ended with."
   ]
  },
  {
   "cell_type": "code",
   "execution_count": 9,
   "id": "89af0ab3",
   "metadata": {
    "execution": {
     "iopub.execute_input": "2022-01-27T18:42:33.929195Z",
     "iopub.status.busy": "2022-01-27T18:42:33.928532Z",
     "iopub.status.idle": "2022-01-27T18:42:33.931149Z",
     "shell.execute_reply": "2022-01-27T18:42:33.931615Z",
     "shell.execute_reply.started": "2022-01-26T18:31:51.186448Z"
    },
    "papermill": {
     "duration": 0.023283,
     "end_time": "2022-01-27T18:42:33.931741",
     "exception": false,
     "start_time": "2022-01-27T18:42:33.908458",
     "status": "completed"
    },
    "tags": []
   },
   "outputs": [
    {
     "data": {
      "text/plain": [
       "array(['australia', 'austria', 'canada', 'china', 'finland', 'france',\n",
       "       'germany', 'greece', 'hongkong', 'ireland', 'italy', 'japan',\n",
       "       'macau', 'malaysia', 'mauritius', 'netherland', 'new zealand',\n",
       "       'norway', 'pakistan', 'portugal', 'russian federation',\n",
       "       'saudi arabia', 'scotland', 'singapore', 'south korea', 'spain',\n",
       "       'sweden', 'thailand', 'turkey', 'uk', 'urbana', 'usa', 'usofa'],\n",
       "      dtype=object)"
      ]
     },
     "execution_count": 9,
     "metadata": {},
     "output_type": "execute_result"
    }
   ],
   "source": [
    "# get all the unique values in the 'City' column\n",
    "countries = professors['Country'].unique()\n",
    "\n",
    "# sort them alphabetically and then take a closer look\n",
    "countries.sort()\n",
    "countries"
   ]
  },
  {
   "cell_type": "markdown",
   "id": "d4a49673",
   "metadata": {
    "papermill": {
     "duration": 0.014591,
     "end_time": "2022-01-27T18:42:33.961009",
     "exception": false,
     "start_time": "2022-01-27T18:42:33.946418",
     "status": "completed"
    },
    "tags": []
   },
   "source": [
    "Take another look at the \"Country\" column and see if there's any more data cleaning we need to do.\n",
    "\n",
    "It looks like 'usa' and 'usofa' should be the same country.  Correct the \"Country\" column in the dataframe to replace 'usofa' with 'usa'.\n",
    "\n",
    "**Use the most recent version of the DataFrame (with the whitespaces at the beginning and end of cells removed) from question 2.**"
   ]
  },
  {
   "cell_type": "code",
   "execution_count": 10,
   "id": "9e667b2b",
   "metadata": {
    "execution": {
     "iopub.execute_input": "2022-01-27T18:42:33.994144Z",
     "iopub.status.busy": "2022-01-27T18:42:33.993291Z",
     "iopub.status.idle": "2022-01-27T18:42:34.005011Z",
     "shell.execute_reply": "2022-01-27T18:42:34.005609Z",
     "shell.execute_reply.started": "2022-01-26T18:35:55.330085Z"
    },
    "papermill": {
     "duration": 0.030029,
     "end_time": "2022-01-27T18:42:34.005738",
     "exception": false,
     "start_time": "2022-01-27T18:42:33.975709",
     "status": "completed"
    },
    "tags": []
   },
   "outputs": [
    {
     "name": "stdout",
     "output_type": "stream",
     "text": [
      "All done!\n"
     ]
    },
    {
     "data": {
      "application/javascript": [
       "parent.postMessage({\"jupyterEvent\": \"custom.exercise_interaction\", \"data\": {\"outcomeType\": 1, \"valueTowardsCompletion\": 0.3333333333333333, \"interactionType\": 1, \"questionType\": 1, \"questionId\": \"3_WorkingWithCities\", \"learnToolsVersion\": \"0.3.4\", \"failureMessage\": \"\", \"exceptionClass\": \"\", \"trace\": \"\"}}, \"*\")"
      ],
      "text/plain": [
       "<IPython.core.display.Javascript object>"
      ]
     },
     "metadata": {},
     "output_type": "display_data"
    },
    {
     "data": {
      "text/markdown": [
       "<span style=\"color:#33cc33\">Correct</span>"
      ],
      "text/plain": [
       "Correct"
      ]
     },
     "metadata": {},
     "output_type": "display_data"
    }
   ],
   "source": [
    "# TODO: Your code here!\n",
    "matches=fuzzywuzzy.process.extract(\"usa\",countries,limit=10,scorer=fuzzywuzzy.fuzz.token_sort_ratio)\n",
    "replace_matches_in_column(df=professors,column='Country',string_to_match=\"usa\",min_ratio=70)\n",
    "\n",
    "# Check your answer\n",
    "q3.check()"
   ]
  },
  {
   "cell_type": "code",
   "execution_count": 11,
   "id": "168487bb",
   "metadata": {
    "execution": {
     "iopub.execute_input": "2022-01-27T18:42:34.043222Z",
     "iopub.status.busy": "2022-01-27T18:42:34.042478Z",
     "iopub.status.idle": "2022-01-27T18:42:34.044463Z",
     "shell.execute_reply": "2022-01-27T18:42:34.044863Z",
     "shell.execute_reply.started": "2022-01-26T18:36:01.296499Z"
    },
    "papermill": {
     "duration": 0.022098,
     "end_time": "2022-01-27T18:42:34.044993",
     "exception": false,
     "start_time": "2022-01-27T18:42:34.022895",
     "status": "completed"
    },
    "tags": []
   },
   "outputs": [],
   "source": [
    "# Lines below will give you a hint or solution code\n",
    "#q3.hint()\n",
    "#q3.solution()"
   ]
  },
  {
   "cell_type": "markdown",
   "id": "52219595",
   "metadata": {
    "papermill": {
     "duration": 0.015633,
     "end_time": "2022-01-27T18:42:34.076362",
     "exception": false,
     "start_time": "2022-01-27T18:42:34.060729",
     "status": "completed"
    },
    "tags": []
   },
   "source": [
    "# Congratulations!\n",
    "\n",
    "Congratulations for completing the **Data Cleaning** course on Kaggle Learn!\n",
    "\n",
    "To practice your new skills, you're encouraged to download and investigate some of [Kaggle's Datasets](https://www.kaggle.com/datasets)."
   ]
  },
  {
   "cell_type": "markdown",
   "id": "4a2dd58d",
   "metadata": {
    "papermill": {
     "duration": 0.015584,
     "end_time": "2022-01-27T18:42:34.108024",
     "exception": false,
     "start_time": "2022-01-27T18:42:34.092440",
     "status": "completed"
    },
    "tags": []
   },
   "source": [
    "---\n",
    "\n",
    "\n",
    "\n",
    "\n",
    "*Have questions or comments? Visit the [course discussion forum](https://www.kaggle.com/learn/data-cleaning/discussion) to chat with other learners.*"
   ]
  }
 ],
 "metadata": {
  "kernelspec": {
   "display_name": "Python 3",
   "language": "python",
   "name": "python3"
  },
  "language_info": {
   "codemirror_mode": {
    "name": "ipython",
    "version": 3
   },
   "file_extension": ".py",
   "mimetype": "text/x-python",
   "name": "python",
   "nbconvert_exporter": "python",
   "pygments_lexer": "ipython3",
   "version": "3.7.12"
  },
  "papermill": {
   "default_parameters": {},
   "duration": 9.436106,
   "end_time": "2022-01-27T18:42:34.531620",
   "environment_variables": {},
   "exception": null,
   "input_path": "__notebook__.ipynb",
   "output_path": "__notebook__.ipynb",
   "parameters": {},
   "start_time": "2022-01-27T18:42:25.095514",
   "version": "2.3.3"
  }
 },
 "nbformat": 4,
 "nbformat_minor": 5
}
