{
 "cells": [
  {
   "cell_type": "markdown",
   "id": "3210aa16",
   "metadata": {
    "papermill": {
     "duration": 0.013165,
     "end_time": "2022-01-27T18:37:48.950043",
     "exception": false,
     "start_time": "2022-01-27T18:37:48.936878",
     "status": "completed"
    },
    "tags": []
   },
   "source": [
    "**This notebook is an exercise in the [Data Cleaning](https://www.kaggle.com/learn/data-cleaning) course.  You can reference the tutorial at [this link](https://www.kaggle.com/alexisbcook/character-encodings).**\n",
    "\n",
    "---\n"
   ]
  },
  {
   "cell_type": "markdown",
   "id": "c1709bf1",
   "metadata": {
    "papermill": {
     "duration": 0.010882,
     "end_time": "2022-01-27T18:37:48.972621",
     "exception": false,
     "start_time": "2022-01-27T18:37:48.961739",
     "status": "completed"
    },
    "tags": []
   },
   "source": [
    "In this exercise, you'll apply what you learned in the **Character encodings** tutorial.\n",
    "\n",
    "# Setup\n",
    "\n",
    "The questions below will give you feedback on your work. Run the following cell to set up the feedback system."
   ]
  },
  {
   "cell_type": "code",
   "execution_count": 1,
   "id": "eed7a4e4",
   "metadata": {
    "execution": {
     "iopub.execute_input": "2022-01-27T18:37:49.000120Z",
     "iopub.status.busy": "2022-01-27T18:37:48.998599Z",
     "iopub.status.idle": "2022-01-27T18:37:49.059632Z",
     "shell.execute_reply": "2022-01-27T18:37:49.060009Z",
     "shell.execute_reply.started": "2022-01-26T17:18:39.555476Z"
    },
    "papermill": {
     "duration": 0.076396,
     "end_time": "2022-01-27T18:37:49.060267",
     "exception": false,
     "start_time": "2022-01-27T18:37:48.983871",
     "status": "completed"
    },
    "tags": []
   },
   "outputs": [
    {
     "name": "stdout",
     "output_type": "stream",
     "text": [
      "Setup Complete\n"
     ]
    }
   ],
   "source": [
    "from learntools.core import binder\n",
    "binder.bind(globals())\n",
    "from learntools.data_cleaning.ex4 import *\n",
    "print(\"Setup Complete\")"
   ]
  },
  {
   "cell_type": "markdown",
   "id": "75049814",
   "metadata": {
    "papermill": {
     "duration": 0.011329,
     "end_time": "2022-01-27T18:37:49.083614",
     "exception": false,
     "start_time": "2022-01-27T18:37:49.072285",
     "status": "completed"
    },
    "tags": []
   },
   "source": [
    "# Get our environment set up\n",
    "\n",
    "The first thing we'll need to do is load in the libraries we'll be using."
   ]
  },
  {
   "cell_type": "code",
   "execution_count": 2,
   "id": "19f8a1e3",
   "metadata": {
    "execution": {
     "iopub.execute_input": "2022-01-27T18:37:49.111707Z",
     "iopub.status.busy": "2022-01-27T18:37:49.110963Z",
     "iopub.status.idle": "2022-01-27T18:37:49.113398Z",
     "shell.execute_reply": "2022-01-27T18:37:49.112982Z",
     "shell.execute_reply.started": "2022-01-26T17:27:47.005109Z"
    },
    "papermill": {
     "duration": 0.018445,
     "end_time": "2022-01-27T18:37:49.113510",
     "exception": false,
     "start_time": "2022-01-27T18:37:49.095065",
     "status": "completed"
    },
    "tags": []
   },
   "outputs": [],
   "source": [
    "# modules we'll use\n",
    "import pandas as pd\n",
    "import numpy as np\n",
    "\n",
    "# helpful character encoding module\n",
    "import chardet\n",
    "\n",
    "# set seed for reproducibility\n",
    "np.random.seed(0)"
   ]
  },
  {
   "cell_type": "markdown",
   "id": "4404fa6c",
   "metadata": {
    "papermill": {
     "duration": 0.011409,
     "end_time": "2022-01-27T18:37:49.136628",
     "exception": false,
     "start_time": "2022-01-27T18:37:49.125219",
     "status": "completed"
    },
    "tags": []
   },
   "source": [
    "# 1) What are encodings?\n",
    "\n",
    "You're working with a dataset composed of bytes.  Run the code cell below to print a sample entry."
   ]
  },
  {
   "cell_type": "code",
   "execution_count": 3,
   "id": "b81556df",
   "metadata": {
    "execution": {
     "iopub.execute_input": "2022-01-27T18:37:49.164751Z",
     "iopub.status.busy": "2022-01-27T18:37:49.164052Z",
     "iopub.status.idle": "2022-01-27T18:37:49.167789Z",
     "shell.execute_reply": "2022-01-27T18:37:49.167361Z",
     "shell.execute_reply.started": "2022-01-26T17:27:49.981697Z"
    },
    "papermill": {
     "duration": 0.019486,
     "end_time": "2022-01-27T18:37:49.167901",
     "exception": false,
     "start_time": "2022-01-27T18:37:49.148415",
     "status": "completed"
    },
    "tags": []
   },
   "outputs": [
    {
     "name": "stdout",
     "output_type": "stream",
     "text": [
      "b'\\xa7A\\xa6n'\n",
      "data type: <class 'bytes'>\n"
     ]
    }
   ],
   "source": [
    "sample_entry = b'\\xa7A\\xa6n'\n",
    "print(sample_entry)\n",
    "print('data type:', type(sample_entry))"
   ]
  },
  {
   "cell_type": "markdown",
   "id": "004eb1ec",
   "metadata": {
    "papermill": {
     "duration": 0.011627,
     "end_time": "2022-01-27T18:37:49.191342",
     "exception": false,
     "start_time": "2022-01-27T18:37:49.179715",
     "status": "completed"
    },
    "tags": []
   },
   "source": [
    "You notice that it doesn't use the standard UTF-8 encoding. \n",
    "\n",
    "Use the next code cell to create a variable `new_entry` that changes the encoding from `\"big5-tw\"` to `\"utf-8\"`.  `new_entry` should have the bytes datatype."
   ]
  },
  {
   "cell_type": "code",
   "execution_count": 4,
   "id": "6da0c889",
   "metadata": {
    "execution": {
     "iopub.execute_input": "2022-01-27T18:37:49.223029Z",
     "iopub.status.busy": "2022-01-27T18:37:49.222184Z",
     "iopub.status.idle": "2022-01-27T18:37:49.227121Z",
     "shell.execute_reply": "2022-01-27T18:37:49.227555Z",
     "shell.execute_reply.started": "2022-01-26T17:29:20.246618Z"
    },
    "papermill": {
     "duration": 0.024465,
     "end_time": "2022-01-27T18:37:49.227701",
     "exception": false,
     "start_time": "2022-01-27T18:37:49.203236",
     "status": "completed"
    },
    "tags": []
   },
   "outputs": [
    {
     "data": {
      "application/javascript": [
       "parent.postMessage({\"jupyterEvent\": \"custom.exercise_interaction\", \"data\": {\"outcomeType\": 1, \"valueTowardsCompletion\": 0.3333333333333333, \"interactionType\": 1, \"questionType\": 1, \"questionId\": \"1_EncodingsIntro\", \"learnToolsVersion\": \"0.3.4\", \"failureMessage\": \"\", \"exceptionClass\": \"\", \"trace\": \"\"}}, \"*\")"
      ],
      "text/plain": [
       "<IPython.core.display.Javascript object>"
      ]
     },
     "metadata": {},
     "output_type": "display_data"
    },
    {
     "data": {
      "text/markdown": [
       "<span style=\"color:#33cc33\">Correct</span>"
      ],
      "text/plain": [
       "Correct"
      ]
     },
     "metadata": {},
     "output_type": "display_data"
    }
   ],
   "source": [
    "before=sample_entry.decode(\"big5-tw\")\n",
    "new_entry = before.encode()\n",
    "\n",
    "# Check your answer\n",
    "q1.check()"
   ]
  },
  {
   "cell_type": "code",
   "execution_count": 5,
   "id": "5c93053b",
   "metadata": {
    "execution": {
     "iopub.execute_input": "2022-01-27T18:37:49.257271Z",
     "iopub.status.busy": "2022-01-27T18:37:49.256531Z",
     "iopub.status.idle": "2022-01-27T18:37:49.259273Z",
     "shell.execute_reply": "2022-01-27T18:37:49.258794Z",
     "shell.execute_reply.started": "2022-01-26T17:29:21.289958Z"
    },
    "papermill": {
     "duration": 0.018987,
     "end_time": "2022-01-27T18:37:49.259394",
     "exception": false,
     "start_time": "2022-01-27T18:37:49.240407",
     "status": "completed"
    },
    "tags": []
   },
   "outputs": [],
   "source": [
    "# Lines below will give you a hint or solution code\n",
    "#q1.hint()\n",
    "#q1.solution()"
   ]
  },
  {
   "cell_type": "markdown",
   "id": "970ba0a8",
   "metadata": {
    "papermill": {
     "duration": 0.012544,
     "end_time": "2022-01-27T18:37:49.284781",
     "exception": false,
     "start_time": "2022-01-27T18:37:49.272237",
     "status": "completed"
    },
    "tags": []
   },
   "source": [
    "# 2) Reading in files with encoding problems\n",
    "\n",
    "Use the code cell below to read in this file at path `\"../input/fatal-police-shootings-in-the-us/PoliceKillingsUS.csv\"`.  \n",
    "\n",
    "Figure out what the correct encoding should be and read in the file to a DataFrame `police_killings`."
   ]
  },
  {
   "cell_type": "code",
   "execution_count": 6,
   "id": "8d7826aa",
   "metadata": {
    "execution": {
     "iopub.execute_input": "2022-01-27T18:37:49.315977Z",
     "iopub.status.busy": "2022-01-27T18:37:49.315093Z",
     "iopub.status.idle": "2022-01-27T18:37:49.333516Z",
     "shell.execute_reply": "2022-01-27T18:37:49.333941Z",
     "shell.execute_reply.started": "2022-01-26T17:31:22.980734Z"
    },
    "papermill": {
     "duration": 0.036225,
     "end_time": "2022-01-27T18:37:49.334104",
     "exception": false,
     "start_time": "2022-01-27T18:37:49.297879",
     "status": "completed"
    },
    "tags": []
   },
   "outputs": [
    {
     "data": {
      "application/javascript": [
       "parent.postMessage({\"jupyterEvent\": \"custom.exercise_interaction\", \"data\": {\"outcomeType\": 1, \"valueTowardsCompletion\": 0.3333333333333333, \"interactionType\": 1, \"questionType\": 1, \"questionId\": \"2_ReadIn\", \"learnToolsVersion\": \"0.3.4\", \"failureMessage\": \"\", \"exceptionClass\": \"\", \"trace\": \"\"}}, \"*\")"
      ],
      "text/plain": [
       "<IPython.core.display.Javascript object>"
      ]
     },
     "metadata": {},
     "output_type": "display_data"
    },
    {
     "data": {
      "text/markdown": [
       "<span style=\"color:#33cc33\">Correct</span>"
      ],
      "text/plain": [
       "Correct"
      ]
     },
     "metadata": {},
     "output_type": "display_data"
    }
   ],
   "source": [
    "# TODO: Load in the DataFrame correctly.\n",
    "police_killings = pd.read_csv(\"../input/fatal-police-shootings-in-the-us/PoliceKillingsUS.csv\",encoding='Windows-1252')\n",
    "\n",
    "# Check your answer\n",
    "q2.check()"
   ]
  },
  {
   "cell_type": "markdown",
   "id": "3c6751f8",
   "metadata": {
    "papermill": {
     "duration": 0.014599,
     "end_time": "2022-01-27T18:37:49.364228",
     "exception": false,
     "start_time": "2022-01-27T18:37:49.349629",
     "status": "completed"
    },
    "tags": []
   },
   "source": [
    "Feel free to use any additional code cells for supplemental work.  To get credit for finishing this question, you'll need to run `q2.check()` and get a result of **Correct**."
   ]
  },
  {
   "cell_type": "code",
   "execution_count": 7,
   "id": "702166ed",
   "metadata": {
    "execution": {
     "iopub.execute_input": "2022-01-27T18:37:49.398143Z",
     "iopub.status.busy": "2022-01-27T18:37:49.397478Z",
     "iopub.status.idle": "2022-01-27T18:37:49.400390Z",
     "shell.execute_reply": "2022-01-27T18:37:49.399894Z",
     "shell.execute_reply.started": "2022-01-26T17:31:26.929479Z"
    },
    "papermill": {
     "duration": 0.020954,
     "end_time": "2022-01-27T18:37:49.400498",
     "exception": false,
     "start_time": "2022-01-27T18:37:49.379544",
     "status": "completed"
    },
    "tags": []
   },
   "outputs": [],
   "source": [
    "# (Optional) Use this code cell for any additional work."
   ]
  },
  {
   "cell_type": "code",
   "execution_count": 8,
   "id": "e37b4e6f",
   "metadata": {
    "execution": {
     "iopub.execute_input": "2022-01-27T18:37:49.450003Z",
     "iopub.status.busy": "2022-01-27T18:37:49.449048Z",
     "iopub.status.idle": "2022-01-27T18:37:49.451487Z",
     "shell.execute_reply": "2022-01-27T18:37:49.450833Z",
     "shell.execute_reply.started": "2022-01-26T17:31:31.673829Z"
    },
    "papermill": {
     "duration": 0.031367,
     "end_time": "2022-01-27T18:37:49.451630",
     "exception": false,
     "start_time": "2022-01-27T18:37:49.420263",
     "status": "completed"
    },
    "tags": []
   },
   "outputs": [],
   "source": [
    "# Lines below will give you a hint or solution code\n",
    "#q2.hint()\n",
    "#q2.solution()"
   ]
  },
  {
   "cell_type": "markdown",
   "id": "6ef36858",
   "metadata": {
    "papermill": {
     "duration": 0.025725,
     "end_time": "2022-01-27T18:37:49.507830",
     "exception": false,
     "start_time": "2022-01-27T18:37:49.482105",
     "status": "completed"
    },
    "tags": []
   },
   "source": [
    "# 3) Saving your files with UTF-8 encoding\n",
    "\n",
    "Save a version of the police killings dataset to CSV with UTF-8 encoding.  Your answer will be marked correct after saving this file.  \n",
    "\n",
    "Note: When using the `to_csv()` method, supply only the name of the file (e.g., `\"my_file.csv\"`).  This saves the file at the filepath `\"/kaggle/working/my_file.csv\"`."
   ]
  },
  {
   "cell_type": "code",
   "execution_count": 9,
   "id": "5dcf2fd2",
   "metadata": {
    "execution": {
     "iopub.execute_input": "2022-01-27T18:37:49.543084Z",
     "iopub.status.busy": "2022-01-27T18:37:49.542323Z",
     "iopub.status.idle": "2022-01-27T18:37:49.579621Z",
     "shell.execute_reply": "2022-01-27T18:37:49.580245Z",
     "shell.execute_reply.started": "2022-01-26T17:37:14.867371Z"
    },
    "papermill": {
     "duration": 0.057362,
     "end_time": "2022-01-27T18:37:49.580376",
     "exception": false,
     "start_time": "2022-01-27T18:37:49.523014",
     "status": "completed"
    },
    "tags": []
   },
   "outputs": [
    {
     "data": {
      "application/javascript": [
       "parent.postMessage({\"jupyterEvent\": \"custom.exercise_interaction\", \"data\": {\"outcomeType\": 1, \"valueTowardsCompletion\": 0.3333333333333333, \"interactionType\": 1, \"questionType\": 2, \"questionId\": \"3_SaveCSV\", \"learnToolsVersion\": \"0.3.4\", \"failureMessage\": \"\", \"exceptionClass\": \"\", \"trace\": \"\"}}, \"*\")"
      ],
      "text/plain": [
       "<IPython.core.display.Javascript object>"
      ]
     },
     "metadata": {},
     "output_type": "display_data"
    },
    {
     "data": {
      "text/markdown": [
       "<span style=\"color:#33cc33\">Correct</span>"
      ],
      "text/plain": [
       "Correct"
      ]
     },
     "metadata": {},
     "output_type": "display_data"
    }
   ],
   "source": [
    "# TODO: Save the police killings dataset to CSV\n",
    "police_killings.to_csv(\"my_file.csv\")\n",
    "\n",
    "# Check your answer\n",
    "q3.check()"
   ]
  },
  {
   "cell_type": "code",
   "execution_count": 10,
   "id": "8aff091b",
   "metadata": {
    "execution": {
     "iopub.execute_input": "2022-01-27T18:37:49.617582Z",
     "iopub.status.busy": "2022-01-27T18:37:49.616554Z",
     "iopub.status.idle": "2022-01-27T18:37:49.618553Z",
     "shell.execute_reply": "2022-01-27T18:37:49.619157Z",
     "shell.execute_reply.started": "2022-01-26T17:37:19.416992Z"
    },
    "papermill": {
     "duration": 0.022524,
     "end_time": "2022-01-27T18:37:49.619283",
     "exception": false,
     "start_time": "2022-01-27T18:37:49.596759",
     "status": "completed"
    },
    "tags": []
   },
   "outputs": [],
   "source": [
    "# Lines below will give you a hint or solution code\n",
    "#q3.hint()\n",
    "#q3.solution()"
   ]
  },
  {
   "cell_type": "markdown",
   "id": "4308f49f",
   "metadata": {
    "papermill": {
     "duration": 0.016002,
     "end_time": "2022-01-27T18:37:49.651564",
     "exception": false,
     "start_time": "2022-01-27T18:37:49.635562",
     "status": "completed"
    },
    "tags": []
   },
   "source": [
    "# (Optional) More practice\n",
    "\n",
    "Check out [this dataset of files in different character encodings](https://www.kaggle.com/rtatman/character-encoding-examples). Can you read in all the files with their original encodings and them save them out as UTF-8 files?\n",
    "\n",
    "If you have a file that's in UTF-8 but has just a couple of weird-looking characters in it, you can try out the [ftfy module](https://ftfy.readthedocs.io/en/latest/#) and see if it helps. \n",
    "\n",
    "# Keep going\n",
    "\n",
    "In the final lesson, learn how to [**clean up inconsistent text entries**](https://www.kaggle.com/alexisbcook/inconsistent-data-entry) in your dataset."
   ]
  },
  {
   "cell_type": "markdown",
   "id": "346df780",
   "metadata": {
    "papermill": {
     "duration": 0.016323,
     "end_time": "2022-01-27T18:37:49.684212",
     "exception": false,
     "start_time": "2022-01-27T18:37:49.667889",
     "status": "completed"
    },
    "tags": []
   },
   "source": [
    "---\n",
    "\n",
    "\n",
    "\n",
    "\n",
    "*Have questions or comments? Visit the [course discussion forum](https://www.kaggle.com/learn/data-cleaning/discussion) to chat with other learners.*"
   ]
  }
 ],
 "metadata": {
  "kernelspec": {
   "display_name": "Python 3",
   "language": "python",
   "name": "python3"
  },
  "language_info": {
   "codemirror_mode": {
    "name": "ipython",
    "version": 3
   },
   "file_extension": ".py",
   "mimetype": "text/x-python",
   "name": "python",
   "nbconvert_exporter": "python",
   "pygments_lexer": "ipython3",
   "version": "3.7.12"
  },
  "papermill": {
   "default_parameters": {},
   "duration": 9.347018,
   "end_time": "2022-01-27T18:37:50.210223",
   "environment_variables": {},
   "exception": null,
   "input_path": "__notebook__.ipynb",
   "output_path": "__notebook__.ipynb",
   "parameters": {},
   "start_time": "2022-01-27T18:37:40.863205",
   "version": "2.3.3"
  }
 },
 "nbformat": 4,
 "nbformat_minor": 5
}
